{
 "cells": [
  {
   "cell_type": "markdown",
   "metadata": {
    "_cell_guid": "79c7e3d0-c299-4dcb-8224-4455121ee9b0",
    "_uuid": "d629ff2d2480ee46fbb7e2d37f6b5fab8052498a",
    "collapsed": true,
    "papermill": {
     "duration": 0.018415,
     "end_time": "2020-10-19T06:37:35.314317",
     "exception": false,
     "start_time": "2020-10-19T06:37:35.295902",
     "status": "completed"
    },
    "tags": []
   },
   "source": [
    "## Import Package"
   ]
  },
  {
   "cell_type": "code",
   "execution_count": 1,
   "metadata": {
    "execution": {
     "iopub.execute_input": "2020-10-19T06:37:35.354945Z",
     "iopub.status.busy": "2020-10-19T06:37:35.354243Z",
     "iopub.status.idle": "2020-10-19T06:37:40.058173Z",
     "shell.execute_reply": "2020-10-19T06:37:40.057391Z"
    },
    "papermill": {
     "duration": 4.726514,
     "end_time": "2020-10-19T06:37:40.058318",
     "exception": false,
     "start_time": "2020-10-19T06:37:35.331804",
     "status": "completed"
    },
    "tags": []
   },
   "outputs": [],
   "source": [
    "import numpy as np\n",
    "import pandas as pd\n",
    "import tensorflow as tf\n",
    "import tensorflow.keras as keras\n",
    "import matplotlib.pyplot as plt"
   ]
  },
  {
   "cell_type": "markdown",
   "metadata": {
    "papermill": {
     "duration": 0.017566,
     "end_time": "2020-10-19T06:37:40.096208",
     "exception": false,
     "start_time": "2020-10-19T06:37:40.078642",
     "status": "completed"
    },
    "tags": []
   },
   "source": [
    "## Load Dataset"
   ]
  },
  {
   "cell_type": "code",
   "execution_count": 2,
   "metadata": {
    "execution": {
     "iopub.execute_input": "2020-10-19T06:37:40.142746Z",
     "iopub.status.busy": "2020-10-19T06:37:40.142076Z",
     "iopub.status.idle": "2020-10-19T06:37:40.191275Z",
     "shell.execute_reply": "2020-10-19T06:37:40.190670Z"
    },
    "papermill": {
     "duration": 0.077373,
     "end_time": "2020-10-19T06:37:40.191385",
     "exception": false,
     "start_time": "2020-10-19T06:37:40.114012",
     "status": "completed"
    },
    "tags": []
   },
   "outputs": [],
   "source": [
    "# collect spread ratio of two stocks as numpy array\n",
    "close1= pd.read_csv(\"../input/pair-trading-dataset/F.csv\").iloc[-2490:-1, :][\"Close\"].values\n",
    "close2 = pd.read_csv(\"../input/pair-trading-dataset/GM.csv\").iloc[-2490:-1, :][\"Close\"].values\n",
    "spread = close1 / close2"
   ]
  },
  {
   "cell_type": "code",
   "execution_count": 3,
   "metadata": {
    "execution": {
     "iopub.execute_input": "2020-10-19T06:37:40.235332Z",
     "iopub.status.busy": "2020-10-19T06:37:40.234356Z",
     "iopub.status.idle": "2020-10-19T06:37:40.238385Z",
     "shell.execute_reply": "2020-10-19T06:37:40.238994Z"
    },
    "papermill": {
     "duration": 0.029378,
     "end_time": "2020-10-19T06:37:40.239122",
     "exception": false,
     "start_time": "2020-10-19T06:37:40.209744",
     "status": "completed"
    },
    "tags": []
   },
   "outputs": [
    {
     "data": {
      "text/plain": [
       "(array([0.47633138, 0.47514791, 0.46608186, ..., 0.24348917, 0.23902747,\n",
       "        0.23381405]),\n",
       " (2489,))"
      ]
     },
     "execution_count": 3,
     "metadata": {},
     "output_type": "execute_result"
    }
   ],
   "source": [
    "spread, spread.shape"
   ]
  },
  {
   "cell_type": "code",
   "execution_count": 4,
   "metadata": {
    "execution": {
     "iopub.execute_input": "2020-10-19T06:37:40.285613Z",
     "iopub.status.busy": "2020-10-19T06:37:40.284739Z",
     "iopub.status.idle": "2020-10-19T06:37:40.288195Z",
     "shell.execute_reply": "2020-10-19T06:37:40.287549Z"
    },
    "papermill": {
     "duration": 0.028668,
     "end_time": "2020-10-19T06:37:40.288303",
     "exception": false,
     "start_time": "2020-10-19T06:37:40.259635",
     "status": "completed"
    },
    "tags": []
   },
   "outputs": [],
   "source": [
    "time = np.array(list(range(len(spread))))\n",
    "series = spread"
   ]
  },
  {
   "cell_type": "code",
   "execution_count": 5,
   "metadata": {
    "execution": {
     "iopub.execute_input": "2020-10-19T06:37:40.335903Z",
     "iopub.status.busy": "2020-10-19T06:37:40.335102Z",
     "iopub.status.idle": "2020-10-19T06:37:40.339206Z",
     "shell.execute_reply": "2020-10-19T06:37:40.338709Z"
    },
    "papermill": {
     "duration": 0.03069,
     "end_time": "2020-10-19T06:37:40.339315",
     "exception": false,
     "start_time": "2020-10-19T06:37:40.308625",
     "status": "completed"
    },
    "tags": []
   },
   "outputs": [],
   "source": [
    "# split dataset into train and validation part\n",
    "time_train = time[:2000]\n",
    "series_train = series[:2000]\n",
    "series_train = np.reshape(series_train, (-1, 1))\n",
    "\n",
    "time_validation = time[2000:]\n",
    "series_validation = series[2000:]"
   ]
  },
  {
   "cell_type": "code",
   "execution_count": 6,
   "metadata": {
    "execution": {
     "iopub.execute_input": "2020-10-19T06:37:40.384553Z",
     "iopub.status.busy": "2020-10-19T06:37:40.383844Z",
     "iopub.status.idle": "2020-10-19T06:37:40.389090Z",
     "shell.execute_reply": "2020-10-19T06:37:40.388622Z"
    },
    "papermill": {
     "duration": 0.028462,
     "end_time": "2020-10-19T06:37:40.389182",
     "exception": false,
     "start_time": "2020-10-19T06:37:40.360720",
     "status": "completed"
    },
    "tags": []
   },
   "outputs": [
    {
     "data": {
      "text/plain": [
       "((2000, 1), (489,))"
      ]
     },
     "execution_count": 6,
     "metadata": {},
     "output_type": "execute_result"
    }
   ],
   "source": [
    "series_train.shape, series_validation.shape"
   ]
  },
  {
   "cell_type": "markdown",
   "metadata": {
    "papermill": {
     "duration": 0.019261,
     "end_time": "2020-10-19T06:37:40.427635",
     "exception": false,
     "start_time": "2020-10-19T06:37:40.408374",
     "status": "completed"
    },
    "tags": []
   },
   "source": [
    "## Build Input Pipeline for Training"
   ]
  },
  {
   "cell_type": "code",
   "execution_count": 7,
   "metadata": {
    "execution": {
     "iopub.execute_input": "2020-10-19T06:37:41.318997Z",
     "iopub.status.busy": "2020-10-19T06:37:41.318018Z",
     "iopub.status.idle": "2020-10-19T06:37:42.868353Z",
     "shell.execute_reply": "2020-10-19T06:37:42.867352Z"
    },
    "papermill": {
     "duration": 2.421462,
     "end_time": "2020-10-19T06:37:42.868461",
     "exception": false,
     "start_time": "2020-10-19T06:37:40.446999",
     "status": "completed"
    },
    "tags": []
   },
   "outputs": [
    {
     "data": {
      "text/plain": [
       "<TensorSliceDataset shapes: (1,), types: tf.float64>"
      ]
     },
     "execution_count": 7,
     "metadata": {},
     "output_type": "execute_result"
    }
   ],
   "source": [
    "# convert numpy array to Tensorflow Dataset object\n",
    "dataset = tf.data.Dataset.from_tensor_slices(series_train)\n",
    "dataset"
   ]
  },
  {
   "cell_type": "code",
   "execution_count": 8,
   "metadata": {
    "execution": {
     "iopub.execute_input": "2020-10-19T06:37:42.916725Z",
     "iopub.status.busy": "2020-10-19T06:37:42.914044Z",
     "iopub.status.idle": "2020-10-19T06:37:42.919828Z",
     "shell.execute_reply": "2020-10-19T06:37:42.920343Z"
    },
    "papermill": {
     "duration": 0.031393,
     "end_time": "2020-10-19T06:37:42.920495",
     "exception": false,
     "start_time": "2020-10-19T06:37:42.889102",
     "status": "completed"
    },
    "tags": []
   },
   "outputs": [
    {
     "data": {
      "text/plain": [
       "<WindowDataset shapes: DatasetSpec(TensorSpec(shape=(1,), dtype=tf.float64, name=None), TensorShape([])), types: DatasetSpec(TensorSpec(shape=(1,), dtype=tf.float64, name=None), TensorShape([]))>"
      ]
     },
     "execution_count": 8,
     "metadata": {},
     "output_type": "execute_result"
    }
   ],
   "source": [
    "# split dataset into many windows\n",
    "dataset = dataset.window(size=21, shift=1, drop_remainder=True)\n",
    "dataset"
   ]
  },
  {
   "cell_type": "code",
   "execution_count": 9,
   "metadata": {
    "execution": {
     "iopub.execute_input": "2020-10-19T06:37:42.967485Z",
     "iopub.status.busy": "2020-10-19T06:37:42.966853Z",
     "iopub.status.idle": "2020-10-19T06:37:43.041612Z",
     "shell.execute_reply": "2020-10-19T06:37:43.042126Z"
    },
    "papermill": {
     "duration": 0.101201,
     "end_time": "2020-10-19T06:37:43.042280",
     "exception": false,
     "start_time": "2020-10-19T06:37:42.941079",
     "status": "completed"
    },
    "tags": []
   },
   "outputs": [
    {
     "data": {
      "text/plain": [
       "<MapDataset shapes: DatasetSpec(TensorSpec(shape=(None, 1), dtype=tf.float64, name=None), TensorShape([])), types: DatasetSpec(TensorSpec(shape=(None, 1), dtype=tf.float64, name=None), TensorShape([]))>"
      ]
     },
     "execution_count": 9,
     "metadata": {},
     "output_type": "execute_result"
    }
   ],
   "source": [
    "# convert each window to a batch\n",
    "dataset = dataset.map(lambda window: window.batch(21))\n",
    "dataset"
   ]
  },
  {
   "cell_type": "code",
   "execution_count": 10,
   "metadata": {
    "execution": {
     "iopub.execute_input": "2020-10-19T06:37:43.097378Z",
     "iopub.status.busy": "2020-10-19T06:37:43.096462Z",
     "iopub.status.idle": "2020-10-19T06:37:43.118372Z",
     "shell.execute_reply": "2020-10-19T06:37:43.117865Z"
    },
    "papermill": {
     "duration": 0.054363,
     "end_time": "2020-10-19T06:37:43.118485",
     "exception": false,
     "start_time": "2020-10-19T06:37:43.064122",
     "status": "completed"
    },
    "tags": []
   },
   "outputs": [
    {
     "data": {
      "text/plain": [
       "<FlatMapDataset shapes: (None, 1), types: tf.float64>"
      ]
     },
     "execution_count": 10,
     "metadata": {},
     "output_type": "execute_result"
    }
   ],
   "source": [
    "# flatten each batch\n",
    "dataset = dataset.flat_map(lambda batch: batch)\n",
    "dataset"
   ]
  },
  {
   "cell_type": "code",
   "execution_count": 11,
   "metadata": {
    "execution": {
     "iopub.execute_input": "2020-10-19T06:37:43.165445Z",
     "iopub.status.busy": "2020-10-19T06:37:43.164741Z",
     "iopub.status.idle": "2020-10-19T06:37:43.175753Z",
     "shell.execute_reply": "2020-10-19T06:37:43.176300Z"
    },
    "papermill": {
     "duration": 0.036922,
     "end_time": "2020-10-19T06:37:43.176416",
     "exception": false,
     "start_time": "2020-10-19T06:37:43.139494",
     "status": "completed"
    },
    "tags": []
   },
   "outputs": [
    {
     "data": {
      "text/plain": [
       "<ShuffleDataset shapes: (None, 1), types: tf.float64>"
      ]
     },
     "execution_count": 11,
     "metadata": {},
     "output_type": "execute_result"
    }
   ],
   "source": [
    "# shuffle the order of batch\n",
    "dataset = dataset.shuffle(buffer_size=2000)\n",
    "dataset"
   ]
  },
  {
   "cell_type": "code",
   "execution_count": 12,
   "metadata": {
    "execution": {
     "iopub.execute_input": "2020-10-19T06:37:43.227076Z",
     "iopub.status.busy": "2020-10-19T06:37:43.226280Z",
     "iopub.status.idle": "2020-10-19T06:37:43.262975Z",
     "shell.execute_reply": "2020-10-19T06:37:43.262426Z"
    },
    "papermill": {
     "duration": 0.064048,
     "end_time": "2020-10-19T06:37:43.263085",
     "exception": false,
     "start_time": "2020-10-19T06:37:43.199037",
     "status": "completed"
    },
    "tags": []
   },
   "outputs": [
    {
     "data": {
      "text/plain": [
       "<MapDataset shapes: ((None, 1), (1,)), types: (tf.float64, tf.float64)>"
      ]
     },
     "execution_count": 12,
     "metadata": {},
     "output_type": "execute_result"
    }
   ],
   "source": [
    "# split each batch into input and output\n",
    "dataset = dataset.map(lambda batch: (batch[:-1], batch[-1]))\n",
    "dataset"
   ]
  },
  {
   "cell_type": "code",
   "execution_count": 13,
   "metadata": {
    "execution": {
     "iopub.execute_input": "2020-10-19T06:37:43.313530Z",
     "iopub.status.busy": "2020-10-19T06:37:43.312593Z",
     "iopub.status.idle": "2020-10-19T06:37:43.318818Z",
     "shell.execute_reply": "2020-10-19T06:37:43.318306Z"
    },
    "papermill": {
     "duration": 0.033274,
     "end_time": "2020-10-19T06:37:43.318912",
     "exception": false,
     "start_time": "2020-10-19T06:37:43.285638",
     "status": "completed"
    },
    "tags": []
   },
   "outputs": [
    {
     "data": {
      "text/plain": [
       "<BatchDataset shapes: ((None, None, 1), (None, 1)), types: (tf.float64, tf.float64)>"
      ]
     },
     "execution_count": 13,
     "metadata": {},
     "output_type": "execute_result"
    }
   ],
   "source": [
    "# integrate 32 batchs/examples into a \"batch\" for training\n",
    "dataset = dataset.batch(32)\n",
    "dataset"
   ]
  },
  {
   "cell_type": "code",
   "execution_count": 14,
   "metadata": {
    "execution": {
     "iopub.execute_input": "2020-10-19T06:37:43.367948Z",
     "iopub.status.busy": "2020-10-19T06:37:43.367163Z",
     "iopub.status.idle": "2020-10-19T06:37:43.373648Z",
     "shell.execute_reply": "2020-10-19T06:37:43.373106Z"
    },
    "papermill": {
     "duration": 0.032397,
     "end_time": "2020-10-19T06:37:43.373762",
     "exception": false,
     "start_time": "2020-10-19T06:37:43.341365",
     "status": "completed"
    },
    "tags": []
   },
   "outputs": [
    {
     "data": {
      "text/plain": [
       "<PrefetchDataset shapes: ((None, None, 1), (None, 1)), types: (tf.float64, tf.float64)>"
      ]
     },
     "execution_count": 14,
     "metadata": {},
     "output_type": "execute_result"
    }
   ],
   "source": [
    "# prefatch Tensorflow Dataset object to enhance efficiency of training process\n",
    "train_dataset = dataset.prefetch(1)\n",
    "train_dataset"
   ]
  },
  {
   "cell_type": "code",
   "execution_count": null,
   "metadata": {
    "execution": {
     "iopub.execute_input": "2020-10-19T06:37:43.424891Z",
     "iopub.status.busy": "2020-10-19T06:37:43.424232Z",
     "iopub.status.idle": "2020-10-19T06:37:45.166372Z",
     "shell.execute_reply": "2020-10-19T06:37:45.177319Z"
    },
    "papermill": {
     "duration": 1.780332,
     "end_time": "2020-10-19T06:37:45.177547",
     "exception": false,
     "start_time": "2020-10-19T06:37:43.397215",
     "status": "completed"
    },
    "tags": []
   },
   "outputs": [],
   "source": [
    "for b in train_dataset:\n",
    "    print(b)\n",
    "    print()"
   ]
  },
  {
   "cell_type": "markdown",
   "metadata": {
    "papermill": {
     "duration": 0.1154,
     "end_time": "2020-10-19T06:37:45.435623",
     "exception": false,
     "start_time": "2020-10-19T06:37:45.320223",
     "status": "completed"
    },
    "tags": []
   },
   "source": [
    "## Define Model"
   ]
  },
  {
   "cell_type": "code",
   "execution_count": 16,
   "metadata": {
    "execution": {
     "iopub.execute_input": "2020-10-19T06:37:45.683666Z",
     "iopub.status.busy": "2020-10-19T06:37:45.682729Z",
     "iopub.status.idle": "2020-10-19T06:37:47.126172Z",
     "shell.execute_reply": "2020-10-19T06:37:47.127502Z"
    },
    "papermill": {
     "duration": 1.571814,
     "end_time": "2020-10-19T06:37:47.127709",
     "exception": false,
     "start_time": "2020-10-19T06:37:45.555895",
     "status": "completed"
    },
    "tags": []
   },
   "outputs": [],
   "source": [
    "model = keras.models.Sequential()\n",
    "model.add(keras.layers.Conv1D(filters=32, kernel_size=3, strides=1, padding=\"same\", activation=\"relu\", input_shape=(20, 1)))\n",
    "# model.add(keras.layers.Dense(units=128, input_shape=(20, 1), activation=\"relu\"))\n",
    "model.add(keras.layers.LSTM(64, return_sequences=True))\n",
    "model.add(keras.layers.LSTM(64))\n",
    "model.add(keras.layers.Dense(30, activation=\"relu\"))\n",
    "model.add(keras.layers.Dense(30, activation=\"relu\"))\n",
    "model.add(keras.layers.Dense(1, activation=\"linear\"))"
   ]
  },
  {
   "cell_type": "code",
   "execution_count": 17,
   "metadata": {
    "execution": {
     "iopub.execute_input": "2020-10-19T06:37:47.385010Z",
     "iopub.status.busy": "2020-10-19T06:37:47.384054Z",
     "iopub.status.idle": "2020-10-19T06:37:47.393099Z",
     "shell.execute_reply": "2020-10-19T06:37:47.394238Z"
    },
    "papermill": {
     "duration": 0.145679,
     "end_time": "2020-10-19T06:37:47.394516",
     "exception": false,
     "start_time": "2020-10-19T06:37:47.248837",
     "status": "completed"
    },
    "tags": []
   },
   "outputs": [
    {
     "name": "stdout",
     "output_type": "stream",
     "text": [
      "Model: \"sequential\"\n",
      "_________________________________________________________________\n",
      "Layer (type)                 Output Shape              Param #   \n",
      "=================================================================\n",
      "conv1d (Conv1D)              (None, 20, 32)            128       \n",
      "_________________________________________________________________\n",
      "lstm (LSTM)                  (None, 20, 64)            24832     \n",
      "_________________________________________________________________\n",
      "lstm_1 (LSTM)                (None, 64)                33024     \n",
      "_________________________________________________________________\n",
      "dense (Dense)                (None, 30)                1950      \n",
      "_________________________________________________________________\n",
      "dense_1 (Dense)              (None, 30)                930       \n",
      "_________________________________________________________________\n",
      "dense_2 (Dense)              (None, 1)                 31        \n",
      "=================================================================\n",
      "Total params: 60,895\n",
      "Trainable params: 60,895\n",
      "Non-trainable params: 0\n",
      "_________________________________________________________________\n"
     ]
    }
   ],
   "source": [
    "model.summary()"
   ]
  },
  {
   "cell_type": "code",
   "execution_count": 18,
   "metadata": {
    "execution": {
     "iopub.execute_input": "2020-10-19T06:37:47.632277Z",
     "iopub.status.busy": "2020-10-19T06:37:47.631192Z",
     "iopub.status.idle": "2020-10-19T06:37:47.647292Z",
     "shell.execute_reply": "2020-10-19T06:37:47.648493Z"
    },
    "papermill": {
     "duration": 0.135028,
     "end_time": "2020-10-19T06:37:47.648669",
     "exception": false,
     "start_time": "2020-10-19T06:37:47.513641",
     "status": "completed"
    },
    "tags": []
   },
   "outputs": [],
   "source": [
    "model.compile(loss=\"mse\", optimizer=keras.optimizers.Adam(), metrics=[\"mae\"])"
   ]
  },
  {
   "cell_type": "markdown",
   "metadata": {
    "papermill": {
     "duration": 0.106773,
     "end_time": "2020-10-19T06:37:47.867161",
     "exception": false,
     "start_time": "2020-10-19T06:37:47.760388",
     "status": "completed"
    },
    "tags": []
   },
   "source": [
    "## Train Model"
   ]
  },
  {
   "cell_type": "code",
   "execution_count": 19,
   "metadata": {
    "execution": {
     "iopub.execute_input": "2020-10-19T06:37:48.158032Z",
     "iopub.status.busy": "2020-10-19T06:37:48.157085Z",
     "iopub.status.idle": "2020-10-19T06:38:49.427985Z",
     "shell.execute_reply": "2020-10-19T06:38:49.422133Z"
    },
    "papermill": {
     "duration": 61.441632,
     "end_time": "2020-10-19T06:38:49.428118",
     "exception": false,
     "start_time": "2020-10-19T06:37:47.986486",
     "status": "completed"
    },
    "tags": []
   },
   "outputs": [
    {
     "name": "stdout",
     "output_type": "stream",
     "text": [
      "Epoch 1/100\n",
      "62/62 [==============================] - 1s 10ms/step - loss: 0.0151 - mae: 0.0762\n",
      "Epoch 2/100\n",
      "62/62 [==============================] - 1s 9ms/step - loss: 5.9717e-04 - mae: 0.0194\n",
      "Epoch 3/100\n",
      "62/62 [==============================] - 1s 10ms/step - loss: 2.1403e-04 - mae: 0.0115\n",
      "Epoch 4/100\n",
      "62/62 [==============================] - 0s 6ms/step - loss: 1.7016e-04 - mae: 0.0100\n",
      "Epoch 5/100\n",
      "62/62 [==============================] - 0s 6ms/step - loss: 1.6384e-04 - mae: 0.0098\n",
      "Epoch 6/100\n",
      "62/62 [==============================] - 0s 6ms/step - loss: 1.7254e-04 - mae: 0.0101\n",
      "Epoch 7/100\n",
      "62/62 [==============================] - 0s 6ms/step - loss: 1.6793e-04 - mae: 0.0099\n",
      "Epoch 8/100\n",
      "62/62 [==============================] - 0s 6ms/step - loss: 1.6447e-04 - mae: 0.0098\n",
      "Epoch 9/100\n",
      "62/62 [==============================] - 0s 8ms/step - loss: 1.7292e-04 - mae: 0.0102\n",
      "Epoch 10/100\n",
      "62/62 [==============================] - 1s 8ms/step - loss: 1.7137e-04 - mae: 0.0101\n",
      "Epoch 11/100\n",
      "62/62 [==============================] - 0s 6ms/step - loss: 1.6517e-04 - mae: 0.0100\n",
      "Epoch 12/100\n",
      "62/62 [==============================] - 0s 5ms/step - loss: 1.6283e-04 - mae: 0.0099\n",
      "Epoch 13/100\n",
      "62/62 [==============================] - 0s 6ms/step - loss: 1.5745e-04 - mae: 0.0097\n",
      "Epoch 14/100\n",
      "62/62 [==============================] - 0s 5ms/step - loss: 1.4273e-04 - mae: 0.0091\n",
      "Epoch 15/100\n",
      "62/62 [==============================] - 0s 6ms/step - loss: 1.4139e-04 - mae: 0.0090\n",
      "Epoch 16/100\n",
      "62/62 [==============================] - 0s 6ms/step - loss: 1.3926e-04 - mae: 0.0090\n",
      "Epoch 17/100\n",
      "62/62 [==============================] - 0s 5ms/step - loss: 1.6584e-04 - mae: 0.0100\n",
      "Epoch 18/100\n",
      "62/62 [==============================] - 0s 6ms/step - loss: 1.4654e-04 - mae: 0.0092\n",
      "Epoch 19/100\n",
      "62/62 [==============================] - 0s 6ms/step - loss: 1.3363e-04 - mae: 0.0088\n",
      "Epoch 20/100\n",
      "62/62 [==============================] - 0s 6ms/step - loss: 1.4551e-04 - mae: 0.0092\n",
      "Epoch 21/100\n",
      "62/62 [==============================] - 0s 6ms/step - loss: 1.4002e-04 - mae: 0.0091\n",
      "Epoch 22/100\n",
      "62/62 [==============================] - 0s 6ms/step - loss: 1.3872e-04 - mae: 0.0090\n",
      "Epoch 23/100\n",
      "62/62 [==============================] - 0s 6ms/step - loss: 1.2540e-04 - mae: 0.0086\n",
      "Epoch 24/100\n",
      "62/62 [==============================] - 0s 6ms/step - loss: 1.5548e-04 - mae: 0.0097\n",
      "Epoch 25/100\n",
      "62/62 [==============================] - 0s 6ms/step - loss: 1.6057e-04 - mae: 0.0099\n",
      "Epoch 26/100\n",
      "62/62 [==============================] - 0s 6ms/step - loss: 1.2463e-04 - mae: 0.0085\n",
      "Epoch 27/100\n",
      "62/62 [==============================] - 0s 5ms/step - loss: 1.1011e-04 - mae: 0.0079\n",
      "Epoch 28/100\n",
      "62/62 [==============================] - 0s 6ms/step - loss: 1.1274e-04 - mae: 0.0082\n",
      "Epoch 29/100\n",
      "62/62 [==============================] - 0s 5ms/step - loss: 1.1770e-04 - mae: 0.0083\n",
      "Epoch 30/100\n",
      "62/62 [==============================] - 0s 6ms/step - loss: 1.0973e-04 - mae: 0.0080\n",
      "Epoch 31/100\n",
      "62/62 [==============================] - 0s 7ms/step - loss: 1.0452e-04 - mae: 0.0078\n",
      "Epoch 32/100\n",
      "62/62 [==============================] - 1s 8ms/step - loss: 1.1214e-04 - mae: 0.0082\n",
      "Epoch 33/100\n",
      "62/62 [==============================] - 0s 6ms/step - loss: 9.5491e-05 - mae: 0.0073\n",
      "Epoch 34/100\n",
      "62/62 [==============================] - 0s 6ms/step - loss: 1.0635e-04 - mae: 0.0080\n",
      "Epoch 35/100\n",
      "62/62 [==============================] - 0s 6ms/step - loss: 1.0922e-04 - mae: 0.0080\n",
      "Epoch 36/100\n",
      "62/62 [==============================] - 0s 6ms/step - loss: 9.2301e-05 - mae: 0.0073\n",
      "Epoch 37/100\n",
      "62/62 [==============================] - 0s 6ms/step - loss: 9.9089e-05 - mae: 0.0076\n",
      "Epoch 38/100\n",
      "62/62 [==============================] - 0s 6ms/step - loss: 8.4681e-05 - mae: 0.0069\n",
      "Epoch 39/100\n",
      "62/62 [==============================] - 0s 6ms/step - loss: 7.8946e-05 - mae: 0.0067\n",
      "Epoch 40/100\n",
      "62/62 [==============================] - 1s 11ms/step - loss: 8.9776e-05 - mae: 0.0072\n",
      "Epoch 41/100\n",
      "62/62 [==============================] - 0s 6ms/step - loss: 8.4681e-05 - mae: 0.0071\n",
      "Epoch 42/100\n",
      "62/62 [==============================] - 0s 5ms/step - loss: 8.3330e-05 - mae: 0.0070\n",
      "Epoch 43/100\n",
      "62/62 [==============================] - 0s 6ms/step - loss: 7.5871e-05 - mae: 0.0067\n",
      "Epoch 44/100\n",
      "62/62 [==============================] - 0s 6ms/step - loss: 1.0147e-04 - mae: 0.0079\n",
      "Epoch 45/100\n",
      "62/62 [==============================] - 1s 8ms/step - loss: 7.9123e-05 - mae: 0.0068\n",
      "Epoch 46/100\n",
      "62/62 [==============================] - 1s 9ms/step - loss: 6.6159e-05 - mae: 0.0062\n",
      "Epoch 47/100\n",
      "62/62 [==============================] - 0s 6ms/step - loss: 6.1302e-05 - mae: 0.0058\n",
      "Epoch 48/100\n",
      "62/62 [==============================] - 0s 6ms/step - loss: 6.9468e-05 - mae: 0.0063\n",
      "Epoch 49/100\n",
      "62/62 [==============================] - 1s 9ms/step - loss: 6.2647e-05 - mae: 0.0060\n",
      "Epoch 50/100\n",
      "62/62 [==============================] - 0s 6ms/step - loss: 5.8634e-05 - mae: 0.0057\n",
      "Epoch 51/100\n",
      "62/62 [==============================] - 0s 6ms/step - loss: 6.2620e-05 - mae: 0.0060\n",
      "Epoch 52/100\n",
      "62/62 [==============================] - 1s 9ms/step - loss: 5.6646e-05 - mae: 0.0057\n",
      "Epoch 53/100\n",
      "62/62 [==============================] - 0s 6ms/step - loss: 5.4293e-05 - mae: 0.0056\n",
      "Epoch 54/100\n",
      "62/62 [==============================] - 0s 6ms/step - loss: 5.4550e-05 - mae: 0.0055\n",
      "Epoch 55/100\n",
      "62/62 [==============================] - 0s 7ms/step - loss: 6.7963e-05 - mae: 0.0063\n",
      "Epoch 56/100\n",
      "62/62 [==============================] - 0s 6ms/step - loss: 5.7428e-05 - mae: 0.0057\n",
      "Epoch 57/100\n",
      "62/62 [==============================] - 0s 6ms/step - loss: 5.5797e-05 - mae: 0.0055\n",
      "Epoch 58/100\n",
      "62/62 [==============================] - 0s 6ms/step - loss: 5.1308e-05 - mae: 0.0053\n",
      "Epoch 59/100\n",
      "62/62 [==============================] - 0s 6ms/step - loss: 4.9849e-05 - mae: 0.0053\n",
      "Epoch 60/100\n",
      "62/62 [==============================] - 0s 6ms/step - loss: 6.1885e-05 - mae: 0.0060\n",
      "Epoch 61/100\n",
      "62/62 [==============================] - 0s 6ms/step - loss: 5.0979e-05 - mae: 0.0053\n",
      "Epoch 62/100\n",
      "62/62 [==============================] - 0s 6ms/step - loss: 5.1464e-05 - mae: 0.0054\n",
      "Epoch 63/100\n",
      "62/62 [==============================] - 0s 5ms/step - loss: 4.9878e-05 - mae: 0.0052\n",
      "Epoch 64/100\n",
      "62/62 [==============================] - 0s 5ms/step - loss: 5.7240e-05 - mae: 0.0057\n",
      "Epoch 65/100\n",
      "62/62 [==============================] - 0s 6ms/step - loss: 6.0105e-05 - mae: 0.0060\n",
      "Epoch 66/100\n",
      "62/62 [==============================] - 0s 6ms/step - loss: 4.2210e-05 - mae: 0.0047\n",
      "Epoch 67/100\n",
      "62/62 [==============================] - 0s 5ms/step - loss: 5.5937e-05 - mae: 0.0056\n",
      "Epoch 68/100\n",
      "62/62 [==============================] - 0s 6ms/step - loss: 6.1555e-05 - mae: 0.0060\n",
      "Epoch 69/100\n",
      "62/62 [==============================] - 0s 5ms/step - loss: 5.2483e-05 - mae: 0.0055\n",
      "Epoch 70/100\n",
      "62/62 [==============================] - 0s 5ms/step - loss: 5.0482e-05 - mae: 0.0054\n",
      "Epoch 71/100\n",
      "62/62 [==============================] - 0s 6ms/step - loss: 5.0052e-05 - mae: 0.0054\n",
      "Epoch 72/100\n",
      "62/62 [==============================] - 0s 5ms/step - loss: 4.2963e-05 - mae: 0.0049\n",
      "Epoch 73/100\n",
      "62/62 [==============================] - 1s 8ms/step - loss: 4.7240e-05 - mae: 0.0051\n",
      "Epoch 74/100\n",
      "62/62 [==============================] - 0s 6ms/step - loss: 4.7858e-05 - mae: 0.0052\n",
      "Epoch 75/100\n",
      "62/62 [==============================] - 0s 6ms/step - loss: 4.2828e-05 - mae: 0.0048\n",
      "Epoch 76/100\n",
      "62/62 [==============================] - 0s 6ms/step - loss: 4.4154e-05 - mae: 0.0049\n",
      "Epoch 77/100\n",
      "62/62 [==============================] - 0s 6ms/step - loss: 6.1930e-05 - mae: 0.0061\n",
      "Epoch 78/100\n",
      "62/62 [==============================] - 0s 6ms/step - loss: 6.1531e-05 - mae: 0.0060\n",
      "Epoch 79/100\n",
      "62/62 [==============================] - 0s 6ms/step - loss: 7.3877e-05 - mae: 0.0067\n",
      "Epoch 80/100\n",
      "62/62 [==============================] - 0s 6ms/step - loss: 4.6990e-05 - mae: 0.0051\n",
      "Epoch 81/100\n",
      "62/62 [==============================] - 0s 6ms/step - loss: 4.3376e-05 - mae: 0.0048\n",
      "Epoch 82/100\n",
      "62/62 [==============================] - 0s 6ms/step - loss: 4.7673e-05 - mae: 0.0052\n",
      "Epoch 83/100\n",
      "62/62 [==============================] - 0s 5ms/step - loss: 4.4114e-05 - mae: 0.0049\n",
      "Epoch 84/100\n",
      "62/62 [==============================] - 0s 6ms/step - loss: 4.6626e-05 - mae: 0.0051\n",
      "Epoch 85/100\n",
      "62/62 [==============================] - 0s 5ms/step - loss: 4.2528e-05 - mae: 0.0048\n",
      "Epoch 86/100\n",
      "62/62 [==============================] - 0s 6ms/step - loss: 5.1701e-05 - mae: 0.0055\n",
      "Epoch 87/100\n",
      "62/62 [==============================] - 0s 6ms/step - loss: 4.3736e-05 - mae: 0.0049\n",
      "Epoch 88/100\n",
      "62/62 [==============================] - 0s 6ms/step - loss: 4.6142e-05 - mae: 0.0050\n",
      "Epoch 89/100\n",
      "62/62 [==============================] - 0s 6ms/step - loss: 4.4367e-05 - mae: 0.0049\n",
      "Epoch 90/100\n",
      "62/62 [==============================] - 0s 6ms/step - loss: 4.3061e-05 - mae: 0.0048\n",
      "Epoch 91/100\n",
      "62/62 [==============================] - 0s 6ms/step - loss: 4.4608e-05 - mae: 0.0049\n",
      "Epoch 92/100\n",
      "62/62 [==============================] - 0s 6ms/step - loss: 5.0077e-05 - mae: 0.0053\n",
      "Epoch 93/100\n",
      "62/62 [==============================] - 0s 6ms/step - loss: 5.5393e-05 - mae: 0.0057\n",
      "Epoch 94/100\n",
      "62/62 [==============================] - 0s 6ms/step - loss: 4.8199e-05 - mae: 0.0053\n",
      "Epoch 95/100\n",
      "62/62 [==============================] - 0s 6ms/step - loss: 4.2060e-05 - mae: 0.0048\n",
      "Epoch 96/100\n",
      "62/62 [==============================] - 1s 9ms/step - loss: 5.1160e-05 - mae: 0.0055\n",
      "Epoch 97/100\n",
      "62/62 [==============================] - 0s 6ms/step - loss: 5.0101e-05 - mae: 0.0052\n",
      "Epoch 98/100\n",
      "62/62 [==============================] - 0s 6ms/step - loss: 4.0615e-05 - mae: 0.0047\n",
      "Epoch 99/100\n",
      "62/62 [==============================] - 0s 6ms/step - loss: 3.6448e-05 - mae: 0.0043\n",
      "Epoch 100/100\n",
      "62/62 [==============================] - 0s 6ms/step - loss: 5.9382e-05 - mae: 0.0058\n"
     ]
    },
    {
     "data": {
      "text/plain": [
       "<tensorflow.python.keras.callbacks.History at 0x7f35cc43d350>"
      ]
     },
     "execution_count": 19,
     "metadata": {},
     "output_type": "execute_result"
    }
   ],
   "source": [
    "model.fit(x=train_dataset, epochs=100, verbose=1)"
   ]
  },
  {
   "cell_type": "code",
   "execution_count": 20,
   "metadata": {
    "execution": {
     "iopub.execute_input": "2020-10-19T06:38:50.229144Z",
     "iopub.status.busy": "2020-10-19T06:38:50.228147Z",
     "iopub.status.idle": "2020-10-19T06:39:07.428686Z",
     "shell.execute_reply": "2020-10-19T06:39:07.427602Z"
    },
    "papermill": {
     "duration": 17.608569,
     "end_time": "2020-10-19T06:39:07.428819",
     "exception": false,
     "start_time": "2020-10-19T06:38:49.820250",
     "status": "completed"
    },
    "tags": []
   },
   "outputs": [],
   "source": [
    "ans = []\n",
    "\n",
    "for idx in range(2000, len(series)):\n",
    "    arr = series[idx-20:idx]\n",
    "    arr = np.reshape(arr, (1, 20, 1))\n",
    "    out = model.predict(arr)[0]\n",
    "    ans.append(out)"
   ]
  },
  {
   "cell_type": "code",
   "execution_count": 21,
   "metadata": {
    "execution": {
     "iopub.execute_input": "2020-10-19T06:39:08.221905Z",
     "iopub.status.busy": "2020-10-19T06:39:08.221169Z",
     "iopub.status.idle": "2020-10-19T06:39:08.461824Z",
     "shell.execute_reply": "2020-10-19T06:39:08.462346Z"
    },
    "papermill": {
     "duration": 0.637713,
     "end_time": "2020-10-19T06:39:08.462493",
     "exception": false,
     "start_time": "2020-10-19T06:39:07.824780",
     "status": "completed"
    },
    "tags": []
   },
   "outputs": [
    {
     "data": {
      "text/plain": [
       "[<matplotlib.lines.Line2D at 0x7f35cc325f90>]"
      ]
     },
     "execution_count": 21,
     "metadata": {},
     "output_type": "execute_result"
    },
    {
     "data": {
      "image/png": "[encoded data removed]",
      "text/plain": [
       "<Figure size 1080x720 with 1 Axes>"
      ]
     },
     "metadata": {
      "needs_background": "light"
     },
     "output_type": "display_data"
    }
   ],
   "source": [
    "plt.figure(figsize=(15, 10))\n",
    "plt.plot(time_validation, ans, color=\"red\")\n",
    "plt.plot(time_validation, series_validation, color=\"blue\")"
   ]
  },
  {
   "cell_type": "code",
   "execution_count": 22,
   "metadata": {
    "execution": {
     "iopub.execute_input": "2020-10-19T06:39:09.497037Z",
     "iopub.status.busy": "2020-10-19T06:39:09.496329Z",
     "iopub.status.idle": "2020-10-19T06:39:10.084294Z",
     "shell.execute_reply": "2020-10-19T06:39:10.083100Z"
    },
    "papermill": {
     "duration": 1.051837,
     "end_time": "2020-10-19T06:39:10.084416",
     "exception": false,
     "start_time": "2020-10-19T06:39:09.032579",
     "status": "completed"
    },
    "tags": []
   },
   "outputs": [],
   "source": [
    "from sklearn.metrics import mean_absolute_error"
   ]
  },
  {
   "cell_type": "code",
   "execution_count": 23,
   "metadata": {
    "execution": {
     "iopub.execute_input": "2020-10-19T06:39:10.885853Z",
     "iopub.status.busy": "2020-10-19T06:39:10.885211Z",
     "iopub.status.idle": "2020-10-19T06:39:10.892650Z",
     "shell.execute_reply": "2020-10-19T06:39:10.893090Z"
    },
    "papermill": {
     "duration": 0.407966,
     "end_time": "2020-10-19T06:39:10.893214",
     "exception": false,
     "start_time": "2020-10-19T06:39:10.485248",
     "status": "completed"
    },
    "tags": []
   },
   "outputs": [
    {
     "data": {
      "text/plain": [
       "0.003605913710465112"
      ]
     },
     "execution_count": 23,
     "metadata": {},
     "output_type": "execute_result"
    }
   ],
   "source": [
    "mean_absolute_error(ans, series_validation)"
   ]
  }
 ],
 "metadata": {
  "kernelspec": {
   "display_name": "Python 3",
   "language": "python",
   "name": "python3"
  },
  "language_info": {
   "codemirror_mode": {
    "name": "ipython",
    "version": 3
   },
   "file_extension": ".py",
   "mimetype": "text/x-python",
   "name": "python",
   "nbconvert_exporter": "python",
   "pygments_lexer": "ipython3",
   "version": "3.7.6"
  },
  "papermill": {
   "duration": 101.804974,
   "end_time": "2020-10-19T06:39:13.307272",
   "environment_variables": {},
   "exception": null,
   "input_path": "__notebook__.ipynb",
   "output_path": "__notebook__.ipynb",
   "parameters": {},
   "start_time": "2020-10-19T06:37:31.502298",
   "version": "2.1.0"
  }
 },
 "nbformat": 4,
 "nbformat_minor": 4
}
