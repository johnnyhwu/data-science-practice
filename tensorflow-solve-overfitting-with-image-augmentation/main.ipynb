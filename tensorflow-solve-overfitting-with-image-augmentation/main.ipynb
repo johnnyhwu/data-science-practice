{
 "cells": [
  {
   "cell_type": "markdown",
   "metadata": {
    "_cell_guid": "79c7e3d0-c299-4dcb-8224-4455121ee9b0",
    "_uuid": "d629ff2d2480ee46fbb7e2d37f6b5fab8052498a",
    "collapsed": true,
    "papermill": {
     "duration": 0.024633,
     "end_time": "2020-09-11T14:14:50.273908",
     "exception": false,
     "start_time": "2020-09-11T14:14:50.249275",
     "status": "completed"
    },
    "tags": []
   },
   "source": [
    "## Import Package"
   ]
  },
  {
   "cell_type": "code",
   "execution_count": 1,
   "metadata": {
    "execution": {
     "iopub.execute_input": "2020-09-11T14:14:50.328790Z",
     "iopub.status.busy": "2020-09-11T14:14:50.327899Z",
     "iopub.status.idle": "2020-09-11T14:14:56.524393Z",
     "shell.execute_reply": "2020-09-11T14:14:56.522850Z"
    },
    "papermill": {
     "duration": 6.226437,
     "end_time": "2020-09-11T14:14:56.524542",
     "exception": false,
     "start_time": "2020-09-11T14:14:50.298105",
     "status": "completed"
    },
    "tags": []
   },
   "outputs": [],
   "source": [
    "import os\n",
    "import json\n",
    "import numpy as np\n",
    "import tensorflow as tf\n",
    "import tensorflow.keras as keras\n",
    "import matplotlib.pyplot as plt"
   ]
  },
  {
   "cell_type": "markdown",
   "metadata": {
    "papermill": {
     "duration": 0.024302,
     "end_time": "2020-09-11T14:14:56.573783",
     "exception": false,
     "start_time": "2020-09-11T14:14:56.549481",
     "status": "completed"
    },
    "tags": []
   },
   "source": [
    "## Load Dataset"
   ]
  },
  {
   "cell_type": "code",
   "execution_count": 2,
   "metadata": {
    "execution": {
     "iopub.execute_input": "2020-09-11T14:14:56.631021Z",
     "iopub.status.busy": "2020-09-11T14:14:56.629055Z",
     "iopub.status.idle": "2020-09-11T14:14:56.631851Z",
     "shell.execute_reply": "2020-09-11T14:14:56.632431Z"
    },
    "papermill": {
     "duration": 0.03328,
     "end_time": "2020-09-11T14:14:56.632573",
     "exception": false,
     "start_time": "2020-09-11T14:14:56.599293",
     "status": "completed"
    },
    "tags": []
   },
   "outputs": [],
   "source": [
    "training_set_base_path = \"../input/cat-and-dog/training_set/training_set/\"\n",
    "validation_set_base_path = \"../input/cat-and-dog/test_set/test_set/\"\n",
    "\n",
    "training_cat_path = training_set_base_path + \"cats\"\n",
    "training_dog_path = training_set_base_path + \"dogs\"\n",
    "validation_cat_path = validation_set_base_path + \"cats\"\n",
    "validation_dog_path = validation_set_base_path + \"dogs\""
   ]
  },
  {
   "cell_type": "code",
   "execution_count": 3,
   "metadata": {
    "execution": {
     "iopub.execute_input": "2020-09-11T14:14:56.687573Z",
     "iopub.status.busy": "2020-09-11T14:14:56.686898Z",
     "iopub.status.idle": "2020-09-11T14:14:57.051084Z",
     "shell.execute_reply": "2020-09-11T14:14:57.050286Z"
    },
    "papermill": {
     "duration": 0.39435,
     "end_time": "2020-09-11T14:14:57.051233",
     "exception": false,
     "start_time": "2020-09-11T14:14:56.656883",
     "status": "completed"
    },
    "tags": []
   },
   "outputs": [
    {
     "name": "stdout",
     "output_type": "stream",
     "text": [
      "Number of training images:  8007\n",
      "Number of validation images:  2025\n"
     ]
    }
   ],
   "source": [
    "print(\"Number of training images: \", len(os.listdir(training_cat_path)) + len(os.listdir(training_dog_path)))\n",
    "print(\"Number of validation images: \", len(os.listdir(validation_cat_path)) + len(os.listdir(validation_dog_path)))"
   ]
  },
  {
   "cell_type": "markdown",
   "metadata": {
    "papermill": {
     "duration": 0.024796,
     "end_time": "2020-09-11T14:14:57.103590",
     "exception": false,
     "start_time": "2020-09-11T14:14:57.078794",
     "status": "completed"
    },
    "tags": []
   },
   "source": [
    "## Create ImageDataGenerator for Training without Augmentation"
   ]
  },
  {
   "cell_type": "code",
   "execution_count": 4,
   "metadata": {
    "execution": {
     "iopub.execute_input": "2020-09-11T14:14:57.160236Z",
     "iopub.status.busy": "2020-09-11T14:14:57.159178Z",
     "iopub.status.idle": "2020-09-11T14:14:57.162536Z",
     "shell.execute_reply": "2020-09-11T14:14:57.161969Z"
    },
    "papermill": {
     "duration": 0.034473,
     "end_time": "2020-09-11T14:14:57.162658",
     "exception": false,
     "start_time": "2020-09-11T14:14:57.128185",
     "status": "completed"
    },
    "tags": []
   },
   "outputs": [],
   "source": [
    "training_gen = keras.preprocessing.image.ImageDataGenerator(rescale=1/255)"
   ]
  },
  {
   "cell_type": "code",
   "execution_count": 5,
   "metadata": {
    "execution": {
     "iopub.execute_input": "2020-09-11T14:14:57.219890Z",
     "iopub.status.busy": "2020-09-11T14:14:57.219174Z",
     "iopub.status.idle": "2020-09-11T14:14:59.386125Z",
     "shell.execute_reply": "2020-09-11T14:14:59.387041Z"
    },
    "papermill": {
     "duration": 2.198784,
     "end_time": "2020-09-11T14:14:59.387501",
     "exception": false,
     "start_time": "2020-09-11T14:14:57.188717",
     "status": "completed"
    },
    "tags": []
   },
   "outputs": [
    {
     "name": "stdout",
     "output_type": "stream",
     "text": [
      "Found 8005 images belonging to 2 classes.\n"
     ]
    }
   ],
   "source": [
    "training_generator = training_gen.flow_from_directory(directory=training_set_base_path,\n",
    "                                                      target_size=(400, 400),\n",
    "                                                      class_mode=\"categorical\",\n",
    "                                                      batch_size=32)"
   ]
  },
  {
   "cell_type": "markdown",
   "metadata": {
    "papermill": {
     "duration": 0.025871,
     "end_time": "2020-09-11T14:14:59.440318",
     "exception": false,
     "start_time": "2020-09-11T14:14:59.414447",
     "status": "completed"
    },
    "tags": []
   },
   "source": [
    "## Create ImageDataGenerator for Training with Augmentation"
   ]
  },
  {
   "cell_type": "code",
   "execution_count": 6,
   "metadata": {
    "execution": {
     "iopub.execute_input": "2020-09-11T14:14:59.499356Z",
     "iopub.status.busy": "2020-09-11T14:14:59.498373Z",
     "iopub.status.idle": "2020-09-11T14:14:59.501783Z",
     "shell.execute_reply": "2020-09-11T14:14:59.501198Z"
    },
    "papermill": {
     "duration": 0.035871,
     "end_time": "2020-09-11T14:14:59.501947",
     "exception": false,
     "start_time": "2020-09-11T14:14:59.466076",
     "status": "completed"
    },
    "tags": []
   },
   "outputs": [],
   "source": [
    "training_gen_aug = keras.preprocessing.image.ImageDataGenerator(rescale=1/255,\n",
    "                                                                rotation_range=90,\n",
    "                                                                width_shift_range=0.2,\n",
    "                                                                height_shift_range=0.2,\n",
    "                                                                shear_range=0.2,\n",
    "                                                                zoom_range=0.2,\n",
    "                                                                fill_mode=\"nearest\",\n",
    "                                                                horizontal_flip=True)"
   ]
  },
  {
   "cell_type": "code",
   "execution_count": 7,
   "metadata": {
    "execution": {
     "iopub.execute_input": "2020-09-11T14:14:59.559288Z",
     "iopub.status.busy": "2020-09-11T14:14:59.558588Z",
     "iopub.status.idle": "2020-09-11T14:15:00.139749Z",
     "shell.execute_reply": "2020-09-11T14:15:00.140897Z"
    },
    "papermill": {
     "duration": 0.613246,
     "end_time": "2020-09-11T14:15:00.141061",
     "exception": false,
     "start_time": "2020-09-11T14:14:59.527815",
     "status": "completed"
    },
    "tags": []
   },
   "outputs": [
    {
     "name": "stdout",
     "output_type": "stream",
     "text": [
      "Found 8005 images belonging to 2 classes.\n"
     ]
    }
   ],
   "source": [
    "training_generator_aug = training_gen_aug.flow_from_directory(directory=training_set_base_path,\n",
    "                                                      target_size=(400, 400),\n",
    "                                                      class_mode=\"categorical\",\n",
    "                                                      batch_size=32)"
   ]
  },
  {
   "cell_type": "markdown",
   "metadata": {
    "papermill": {
     "duration": 0.025423,
     "end_time": "2020-09-11T14:15:00.192706",
     "exception": false,
     "start_time": "2020-09-11T14:15:00.167283",
     "status": "completed"
    },
    "tags": []
   },
   "source": [
    "## Create ImageDataGenerator for Testing"
   ]
  },
  {
   "cell_type": "code",
   "execution_count": 8,
   "metadata": {
    "execution": {
     "iopub.execute_input": "2020-09-11T14:15:00.252571Z",
     "iopub.status.busy": "2020-09-11T14:15:00.251544Z",
     "iopub.status.idle": "2020-09-11T14:15:00.254654Z",
     "shell.execute_reply": "2020-09-11T14:15:00.254103Z"
    },
    "papermill": {
     "duration": 0.035622,
     "end_time": "2020-09-11T14:15:00.254774",
     "exception": false,
     "start_time": "2020-09-11T14:15:00.219152",
     "status": "completed"
    },
    "tags": []
   },
   "outputs": [],
   "source": [
    "validation_gen = keras.preprocessing.image.ImageDataGenerator(rescale=1/255)"
   ]
  },
  {
   "cell_type": "code",
   "execution_count": 9,
   "metadata": {
    "execution": {
     "iopub.execute_input": "2020-09-11T14:15:00.313276Z",
     "iopub.status.busy": "2020-09-11T14:15:00.312584Z",
     "iopub.status.idle": "2020-09-11T14:15:00.524715Z",
     "shell.execute_reply": "2020-09-11T14:15:00.525381Z"
    },
    "papermill": {
     "duration": 0.245485,
     "end_time": "2020-09-11T14:15:00.525586",
     "exception": false,
     "start_time": "2020-09-11T14:15:00.280101",
     "status": "completed"
    },
    "tags": []
   },
   "outputs": [
    {
     "name": "stdout",
     "output_type": "stream",
     "text": [
      "Found 2023 images belonging to 2 classes.\n"
     ]
    }
   ],
   "source": [
    "validation_generator = validation_gen.flow_from_directory(directory=validation_set_base_path,\n",
    "                                                          target_size=(400, 400),\n",
    "                                                          class_mode=\"categorical\",\n",
    "                                                          batch_size=32)"
   ]
  },
  {
   "cell_type": "markdown",
   "metadata": {
    "papermill": {
     "duration": 0.025977,
     "end_time": "2020-09-11T14:15:00.577675",
     "exception": false,
     "start_time": "2020-09-11T14:15:00.551698",
     "status": "completed"
    },
    "tags": []
   },
   "source": [
    "## Define Model"
   ]
  },
  {
   "cell_type": "markdown",
   "metadata": {
    "papermill": {
     "duration": 0.026689,
     "end_time": "2020-09-11T14:15:00.630608",
     "exception": false,
     "start_time": "2020-09-11T14:15:00.603919",
     "status": "completed"
    },
    "tags": []
   },
   "source": [
    "### Architecture"
   ]
  },
  {
   "cell_type": "code",
   "execution_count": 10,
   "metadata": {
    "execution": {
     "iopub.execute_input": "2020-09-11T14:15:00.708702Z",
     "iopub.status.busy": "2020-09-11T14:15:00.707958Z",
     "iopub.status.idle": "2020-09-11T14:15:03.978544Z",
     "shell.execute_reply": "2020-09-11T14:15:03.977127Z"
    },
    "papermill": {
     "duration": 3.321213,
     "end_time": "2020-09-11T14:15:03.978673",
     "exception": false,
     "start_time": "2020-09-11T14:15:00.657460",
     "status": "completed"
    },
    "tags": []
   },
   "outputs": [],
   "source": [
    "inputs = keras.layers.Input(shape=(400, 400, 3))\n",
    "x = keras.layers.Conv2D(filters=16, kernel_size=(3, 3), strides=1, padding=\"same\", activation=tf.nn.relu)(inputs)\n",
    "x = keras.layers.MaxPooling2D(pool_size=2)(x)\n",
    "x = keras.layers.Conv2D(filters=32, kernel_size=(3, 3), strides=1, padding=\"same\", activation=tf.nn.relu)(x)\n",
    "x = keras.layers.MaxPooling2D(pool_size=2)(x)\n",
    "x = keras.layers.Conv2D(filters=64, kernel_size=(3, 3), strides=1, padding=\"same\", activation=tf.nn.relu)(x)\n",
    "x = keras.layers.Conv2D(filters=64, kernel_size=(3, 3), strides=1, padding=\"same\", activation=tf.nn.relu)(x)\n",
    "x = keras.layers.MaxPooling2D(pool_size=2)(x)\n",
    "x = keras.layers.Conv2D(filters=128, kernel_size=(3, 3), strides=1, padding=\"same\", activation=tf.nn.relu)(x)\n",
    "x = keras.layers.MaxPooling2D(pool_size=2)(x)\n",
    "x = keras.layers.Conv2D(filters=256, kernel_size=(3, 3), strides=1, padding=\"same\", activation=tf.nn.relu)(x)\n",
    "x = keras.layers.MaxPooling2D(pool_size=2)(x)\n",
    "x = keras.layers.Conv2D(filters=512, kernel_size=(3, 3), strides=1, padding=\"same\", activation=tf.nn.relu)(x)\n",
    "x = keras.layers.MaxPooling2D(pool_size=2)(x)\n",
    "x = keras.layers.Flatten()(x)\n",
    "x = keras.layers.Dense(units=128, activation=tf.nn.relu)(x)\n",
    "x = keras.layers.Dense(units=64, activation=tf.nn.relu)(x)\n",
    "x = keras.layers.Dense(units=32, activation=tf.nn.relu)(x)\n",
    "x = keras.layers.Dense(units=16, activation=tf.nn.relu)(x)\n",
    "outputs = keras.layers.Dense(units=2, activation=tf.nn.softmax)(x)"
   ]
  },
  {
   "cell_type": "code",
   "execution_count": 11,
   "metadata": {
    "execution": {
     "iopub.execute_input": "2020-09-11T14:15:04.042717Z",
     "iopub.status.busy": "2020-09-11T14:15:04.041628Z",
     "iopub.status.idle": "2020-09-11T14:15:04.052755Z",
     "shell.execute_reply": "2020-09-11T14:15:04.052188Z"
    },
    "papermill": {
     "duration": 0.045276,
     "end_time": "2020-09-11T14:15:04.052876",
     "exception": false,
     "start_time": "2020-09-11T14:15:04.007600",
     "status": "completed"
    },
    "tags": []
   },
   "outputs": [],
   "source": [
    "model = keras.models.Model(inputs=inputs, outputs=outputs)"
   ]
  },
  {
   "cell_type": "code",
   "execution_count": 12,
   "metadata": {
    "execution": {
     "iopub.execute_input": "2020-09-11T14:15:04.118208Z",
     "iopub.status.busy": "2020-09-11T14:15:04.117162Z",
     "iopub.status.idle": "2020-09-11T14:15:04.126382Z",
     "shell.execute_reply": "2020-09-11T14:15:04.127200Z"
    },
    "papermill": {
     "duration": 0.047718,
     "end_time": "2020-09-11T14:15:04.127429",
     "exception": false,
     "start_time": "2020-09-11T14:15:04.079711",
     "status": "completed"
    },
    "tags": []
   },
   "outputs": [
    {
     "name": "stdout",
     "output_type": "stream",
     "text": [
      "Model: \"functional_1\"\n",
      "_________________________________________________________________\n",
      "Layer (type)                 Output Shape              Param #   \n",
      "=================================================================\n",
      "input_1 (InputLayer)         [(None, 400, 400, 3)]     0         \n",
      "_________________________________________________________________\n",
      "conv2d (Conv2D)              (None, 400, 400, 16)      448       \n",
      "_________________________________________________________________\n",
      "max_pooling2d (MaxPooling2D) (None, 200, 200, 16)      0         \n",
      "_________________________________________________________________\n",
      "conv2d_1 (Conv2D)            (None, 200, 200, 32)      4640      \n",
      "_________________________________________________________________\n",
      "max_pooling2d_1 (MaxPooling2 (None, 100, 100, 32)      0         \n",
      "_________________________________________________________________\n",
      "conv2d_2 (Conv2D)            (None, 100, 100, 64)      18496     \n",
      "_________________________________________________________________\n",
      "conv2d_3 (Conv2D)            (None, 100, 100, 64)      36928     \n",
      "_________________________________________________________________\n",
      "max_pooling2d_2 (MaxPooling2 (None, 50, 50, 64)        0         \n",
      "_________________________________________________________________\n",
      "conv2d_4 (Conv2D)            (None, 50, 50, 128)       73856     \n",
      "_________________________________________________________________\n",
      "max_pooling2d_3 (MaxPooling2 (None, 25, 25, 128)       0         \n",
      "_________________________________________________________________\n",
      "conv2d_5 (Conv2D)            (None, 25, 25, 256)       295168    \n",
      "_________________________________________________________________\n",
      "max_pooling2d_4 (MaxPooling2 (None, 12, 12, 256)       0         \n",
      "_________________________________________________________________\n",
      "conv2d_6 (Conv2D)            (None, 12, 12, 512)       1180160   \n",
      "_________________________________________________________________\n",
      "max_pooling2d_5 (MaxPooling2 (None, 6, 6, 512)         0         \n",
      "_________________________________________________________________\n",
      "flatten (Flatten)            (None, 18432)             0         \n",
      "_________________________________________________________________\n",
      "dense (Dense)                (None, 128)               2359424   \n",
      "_________________________________________________________________\n",
      "dense_1 (Dense)              (None, 64)                8256      \n",
      "_________________________________________________________________\n",
      "dense_2 (Dense)              (None, 32)                2080      \n",
      "_________________________________________________________________\n",
      "dense_3 (Dense)              (None, 16)                528       \n",
      "_________________________________________________________________\n",
      "dense_4 (Dense)              (None, 2)                 34        \n",
      "=================================================================\n",
      "Total params: 3,980,018\n",
      "Trainable params: 3,980,018\n",
      "Non-trainable params: 0\n",
      "_________________________________________________________________\n"
     ]
    }
   ],
   "source": [
    "model.summary()"
   ]
  },
  {
   "cell_type": "markdown",
   "metadata": {
    "papermill": {
     "duration": 0.027179,
     "end_time": "2020-09-11T14:15:04.183382",
     "exception": false,
     "start_time": "2020-09-11T14:15:04.156203",
     "status": "completed"
    },
    "tags": []
   },
   "source": [
    "### Compilation"
   ]
  },
  {
   "cell_type": "code",
   "execution_count": 13,
   "metadata": {
    "execution": {
     "iopub.execute_input": "2020-09-11T14:15:04.255656Z",
     "iopub.status.busy": "2020-09-11T14:15:04.253555Z",
     "iopub.status.idle": "2020-09-11T14:15:04.262361Z",
     "shell.execute_reply": "2020-09-11T14:15:04.261815Z"
    },
    "papermill": {
     "duration": 0.050986,
     "end_time": "2020-09-11T14:15:04.262491",
     "exception": false,
     "start_time": "2020-09-11T14:15:04.211505",
     "status": "completed"
    },
    "tags": []
   },
   "outputs": [],
   "source": [
    "model.compile(loss=\"categorical_crossentropy\", optimizer=keras.optimizers.Adam(learning_rate=0.0001), metrics=[\"acc\"])"
   ]
  },
  {
   "cell_type": "markdown",
   "metadata": {
    "papermill": {
     "duration": 0.029192,
     "end_time": "2020-09-11T14:15:04.320945",
     "exception": false,
     "start_time": "2020-09-11T14:15:04.291753",
     "status": "completed"
    },
    "tags": []
   },
   "source": [
    "### Callback"
   ]
  },
  {
   "cell_type": "code",
   "execution_count": 14,
   "metadata": {
    "execution": {
     "iopub.execute_input": "2020-09-11T14:15:04.383187Z",
     "iopub.status.busy": "2020-09-11T14:15:04.382319Z",
     "iopub.status.idle": "2020-09-11T14:15:04.386378Z",
     "shell.execute_reply": "2020-09-11T14:15:04.385832Z"
    },
    "papermill": {
     "duration": 0.037055,
     "end_time": "2020-09-11T14:15:04.386531",
     "exception": false,
     "start_time": "2020-09-11T14:15:04.349476",
     "status": "completed"
    },
    "tags": []
   },
   "outputs": [],
   "source": [
    "pass"
   ]
  },
  {
   "cell_type": "markdown",
   "metadata": {
    "papermill": {
     "duration": 0.028964,
     "end_time": "2020-09-11T14:15:04.445040",
     "exception": false,
     "start_time": "2020-09-11T14:15:04.416076",
     "status": "completed"
    },
    "tags": []
   },
   "source": [
    "## Save Model"
   ]
  },
  {
   "cell_type": "code",
   "execution_count": 15,
   "metadata": {
    "execution": {
     "iopub.execute_input": "2020-09-11T14:15:04.512529Z",
     "iopub.status.busy": "2020-09-11T14:15:04.510176Z",
     "iopub.status.idle": "2020-09-11T14:15:04.576264Z",
     "shell.execute_reply": "2020-09-11T14:15:04.576894Z"
    },
    "papermill": {
     "duration": 0.103839,
     "end_time": "2020-09-11T14:15:04.577073",
     "exception": false,
     "start_time": "2020-09-11T14:15:04.473234",
     "status": "completed"
    },
    "tags": []
   },
   "outputs": [],
   "source": [
    "model.save_weights(\"initial_model.h5\")"
   ]
  },
  {
   "cell_type": "markdown",
   "metadata": {
    "papermill": {
     "duration": 0.026978,
     "end_time": "2020-09-11T14:15:04.633373",
     "exception": false,
     "start_time": "2020-09-11T14:15:04.606395",
     "status": "completed"
    },
    "tags": []
   },
   "source": [
    "## Train Model with Non-Augmented Data"
   ]
  },
  {
   "cell_type": "code",
   "execution_count": null,
   "metadata": {
    "execution": {
     "iopub.execute_input": "2020-09-11T14:15:04.695360Z",
     "iopub.status.busy": "2020-09-11T14:15:04.694485Z",
     "iopub.status.idle": "2020-09-11T15:52:38.995648Z",
     "shell.execute_reply": "2020-09-11T15:52:38.994866Z"
    },
    "papermill": {
     "duration": 5854.335382,
     "end_time": "2020-09-11T15:52:38.995804",
     "exception": false,
     "start_time": "2020-09-11T14:15:04.660422",
     "status": "completed"
    },
    "tags": []
   },
   "outputs": [],
   "source": [
    "history = model.fit(x=training_generator,\n",
    "          epochs=200,\n",
    "          steps_per_epoch=64,\n",
    "          validation_data=validation_generator,\n",
    "          validation_steps=32)"
   ]
  },
  {
   "cell_type": "code",
   "execution_count": 17,
   "metadata": {
    "execution": {
     "iopub.execute_input": "2020-09-11T15:52:50.210481Z",
     "iopub.status.busy": "2020-09-11T15:52:50.209284Z",
     "iopub.status.idle": "2020-09-11T15:52:50.217034Z",
     "shell.execute_reply": "2020-09-11T15:52:50.216365Z"
    },
    "papermill": {
     "duration": 5.547137,
     "end_time": "2020-09-11T15:52:50.217152",
     "exception": false,
     "start_time": "2020-09-11T15:52:44.670015",
     "status": "completed"
    },
    "tags": []
   },
   "outputs": [],
   "source": [
    "with open(\"history.json\", \"w\") as file:\n",
    "    json.dump(history.history, file)"
   ]
  },
  {
   "cell_type": "markdown",
   "metadata": {
    "papermill": {
     "duration": 5.089967,
     "end_time": "2020-09-11T15:53:00.397140",
     "exception": false,
     "start_time": "2020-09-11T15:52:55.307173",
     "status": "completed"
    },
    "tags": []
   },
   "source": [
    "## Train Model with Augmented Data"
   ]
  },
  {
   "cell_type": "code",
   "execution_count": null,
   "metadata": {
    "execution": {
     "iopub.execute_input": "2020-09-11T15:53:11.437012Z",
     "iopub.status.busy": "2020-09-11T15:53:11.435752Z",
     "iopub.status.idle": "2020-09-11T22:15:28.186171Z",
     "shell.execute_reply": "2020-09-11T22:15:28.185161Z"
    },
    "papermill": {
     "duration": 22942.355626,
     "end_time": "2020-09-11T22:15:28.186315",
     "exception": false,
     "start_time": "2020-09-11T15:53:05.830689",
     "status": "completed"
    },
    "tags": []
   },
   "outputs": [],
   "source": [
    "model.load_weights(\"initial_model.h5\")\n",
    "history_aug = model.fit(x=training_generator_aug,\n",
    "          epochs=200,\n",
    "          steps_per_epoch=64,\n",
    "          validation_data=validation_generator,\n",
    "          validation_steps=32)"
   ]
  },
  {
   "cell_type": "code",
   "execution_count": 19,
   "metadata": {
    "execution": {
     "iopub.execute_input": "2020-09-11T22:15:51.860058Z",
     "iopub.status.busy": "2020-09-11T22:15:51.858965Z",
     "iopub.status.idle": "2020-09-11T22:15:51.864440Z",
     "shell.execute_reply": "2020-09-11T22:15:51.863801Z"
    },
    "papermill": {
     "duration": 11.987004,
     "end_time": "2020-09-11T22:15:51.864578",
     "exception": false,
     "start_time": "2020-09-11T22:15:39.877574",
     "status": "completed"
    },
    "tags": []
   },
   "outputs": [],
   "source": [
    "with open(\"history_aug.json\", \"w\") as file:\n",
    "    json.dump(history_aug.history, file)"
   ]
  },
  {
   "cell_type": "markdown",
   "metadata": {
    "papermill": {
     "duration": 11.533187,
     "end_time": "2020-09-11T22:16:14.812783",
     "exception": false,
     "start_time": "2020-09-11T22:16:03.279596",
     "status": "completed"
    },
    "tags": []
   },
   "source": [
    "## Compare Two Training Process"
   ]
  },
  {
   "cell_type": "code",
   "execution_count": 20,
   "metadata": {
    "execution": {
     "iopub.execute_input": "2020-09-11T22:16:38.289870Z",
     "iopub.status.busy": "2020-09-11T22:16:38.288115Z",
     "iopub.status.idle": "2020-09-11T22:16:38.290691Z",
     "shell.execute_reply": "2020-09-11T22:16:38.291253Z"
    },
    "papermill": {
     "duration": 12.097625,
     "end_time": "2020-09-11T22:16:38.291441",
     "exception": false,
     "start_time": "2020-09-11T22:16:26.193816",
     "status": "completed"
    },
    "tags": []
   },
   "outputs": [],
   "source": [
    "with open(\"history.json\", 'r') as file:\n",
    "    data = file.read()\n",
    "\n",
    "history = json.loads(data)"
   ]
  },
  {
   "cell_type": "code",
   "execution_count": 21,
   "metadata": {
    "execution": {
     "iopub.execute_input": "2020-09-11T22:17:01.202628Z",
     "iopub.status.busy": "2020-09-11T22:17:01.201711Z",
     "iopub.status.idle": "2020-09-11T22:17:01.205874Z",
     "shell.execute_reply": "2020-09-11T22:17:01.205128Z"
    },
    "papermill": {
     "duration": 11.50282,
     "end_time": "2020-09-11T22:17:01.206012",
     "exception": false,
     "start_time": "2020-09-11T22:16:49.703192",
     "status": "completed"
    },
    "tags": []
   },
   "outputs": [],
   "source": [
    "with open(\"history_aug.json\", 'r') as file:\n",
    "    data = file.read()\n",
    "\n",
    "history_aug = json.loads(data)"
   ]
  },
  {
   "cell_type": "code",
   "execution_count": 22,
   "metadata": {
    "execution": {
     "iopub.execute_input": "2020-09-11T22:17:23.891493Z",
     "iopub.status.busy": "2020-09-11T22:17:23.890265Z",
     "iopub.status.idle": "2020-09-11T22:17:23.893746Z",
     "shell.execute_reply": "2020-09-11T22:17:23.893088Z"
    },
    "papermill": {
     "duration": 11.469352,
     "end_time": "2020-09-11T22:17:23.893895",
     "exception": false,
     "start_time": "2020-09-11T22:17:12.424543",
     "status": "completed"
    },
    "tags": []
   },
   "outputs": [],
   "source": [
    "training_acc = history[\"acc\"]\n",
    "training_val_acc = history[\"val_acc\"]\n",
    "aug_training_acc = history_aug[\"acc\"]\n",
    "aug_training_val_acc = history_aug[\"val_acc\"]\n",
    "epochs = list(range(len(training_acc)))"
   ]
  },
  {
   "cell_type": "code",
   "execution_count": 23,
   "metadata": {
    "execution": {
     "iopub.execute_input": "2020-09-11T22:17:47.429789Z",
     "iopub.status.busy": "2020-09-11T22:17:47.428517Z",
     "iopub.status.idle": "2020-09-11T22:17:47.670255Z",
     "shell.execute_reply": "2020-09-11T22:17:47.670813Z"
    },
    "papermill": {
     "duration": 12.12221,
     "end_time": "2020-09-11T22:17:47.670968",
     "exception": false,
     "start_time": "2020-09-11T22:17:35.548758",
     "status": "completed"
    },
    "tags": []
   },
   "outputs": [
    {
     "data": {
      "image/png": "[encoded data removed]",
      "text/plain": [
       "<Figure size 432x288 with 1 Axes>"
      ]
     },
     "metadata": {
      "needs_background": "light"
     },
     "output_type": "display_data"
    }
   ],
   "source": [
    "plt.plot(epochs, training_acc, 'bo', label=\"Training Acc\")\n",
    "plt.plot(epochs, training_val_acc, 'b', label=\"Validation Acc\")\n",
    "plt.title(\"Training Acc vs Validation Acc without Augmentation\")\n",
    "plt.legend()\n",
    "plt.show()"
   ]
  },
  {
   "cell_type": "code",
   "execution_count": 24,
   "metadata": {
    "execution": {
     "iopub.execute_input": "2020-09-11T22:18:10.632275Z",
     "iopub.status.busy": "2020-09-11T22:18:10.631221Z",
     "iopub.status.idle": "2020-09-11T22:18:10.971454Z",
     "shell.execute_reply": "2020-09-11T22:18:10.969305Z"
    },
    "papermill": {
     "duration": 11.843062,
     "end_time": "2020-09-11T22:18:10.971699",
     "exception": false,
     "start_time": "2020-09-11T22:17:59.128637",
     "status": "completed"
    },
    "tags": []
   },
   "outputs": [
    {
     "data": {
      "image/png": "[encoded data removed]",
      "text/plain": [
       "<Figure size 432x288 with 1 Axes>"
      ]
     },
     "metadata": {
      "needs_background": "light"
     },
     "output_type": "display_data"
    }
   ],
   "source": [
    "plt.plot(epochs, aug_training_acc, 'bo', label=\"Training Acc\")\n",
    "plt.plot(epochs, aug_training_val_acc, 'b', label=\"Validation Acc\")\n",
    "plt.title(\"Training Acc vs Validation Acc with Augmentation\")\n",
    "plt.legend()\n",
    "plt.show()"
   ]
  }
 ],
 "metadata": {
  "kernelspec": {
   "display_name": "Python 3",
   "language": "python",
   "name": "python3"
  },
  "language_info": {
   "codemirror_mode": {
    "name": "ipython",
    "version": 3
   },
   "file_extension": ".py",
   "mimetype": "text/x-python",
   "name": "python",
   "nbconvert_exporter": "python",
   "pygments_lexer": "ipython3",
   "version": "3.7.6"
  },
  "papermill": {
   "duration": 29017.730556,
   "end_time": "2020-09-11T22:18:23.394634",
   "environment_variables": {},
   "exception": null,
   "input_path": "__notebook__.ipynb",
   "output_path": "__notebook__.ipynb",
   "parameters": {},
   "start_time": "2020-09-11T14:14:45.664078",
   "version": "2.1.0"
  }
 },
 "nbformat": 4,
 "nbformat_minor": 4
}
