{
 "cells": [
  {
   "cell_type": "markdown",
   "metadata": {},
   "source": [
    "## Import Module"
   ]
  },
  {
   "cell_type": "code",
   "execution_count": 1,
   "metadata": {},
   "outputs": [],
   "source": [
    "from selenium import webdriver\n",
    "from bs4 import BeautifulSoup\n",
    "from tqdm import tqdm_notebook as tqdm\n",
    "import pandas as pd\n",
    "import threading\n",
    "import queue\n",
    "import time\n",
    "import re"
   ]
  },
  {
   "cell_type": "markdown",
   "metadata": {},
   "source": [
    "## Necessary Data"
   ]
  },
  {
   "cell_type": "code",
   "execution_count": 2,
   "metadata": {},
   "outputs": [],
   "source": [
    "city_name_list = [\"桃園市\", \n",
    "                  \"基隆市\", \n",
    "                  \"新竹市\", \n",
    "                  \"新竹縣\", \n",
    "                  \"宜蘭縣\", \n",
    "                  \"臺中市\", \n",
    "                  \"苗栗縣\", \n",
    "                  \"彰化縣\", \n",
    "                  \"南投縣\", \n",
    "                  \"雲林縣\",\n",
    "                  \"臺南市\",\n",
    "                  \"高雄市\",\n",
    "                  \"嘉義市\",\n",
    "                  \"嘉義縣\",\n",
    "                  \"屏東縣\",\n",
    "                  \"臺東縣\",\n",
    "                  \"花蓮縣\",\n",
    "                  \"澎湖縣\",\n",
    "                  \"金門縣\",\n",
    "                  \"連江縣\"]"
   ]
  },
  {
   "cell_type": "code",
   "execution_count": 3,
   "metadata": {},
   "outputs": [],
   "source": [
    "job_queue = queue.Queue()\n",
    "\n",
    "for city in city_name_list:\n",
    "    job_queue.put(city)"
   ]
  },
  {
   "cell_type": "markdown",
   "metadata": {},
   "source": [
    "## Worker Class"
   ]
  },
  {
   "cell_type": "code",
   "execution_count": 4,
   "metadata": {},
   "outputs": [],
   "source": [
    "class Worker(threading.Thread):\n",
    "    \n",
    "    def __init__(self, job_queue, base_url):\n",
    "        \n",
    "        super().__init__()\n",
    "        \n",
    "        self.job_queue = job_queue\n",
    "        self.base_url = base_url\n",
    "        self.city_name = None\n",
    "        self.driver = None\n",
    "        \n",
    "        self.final_dict = None\n",
    "        self.name = None\n",
    "        self.phone = None\n",
    "        self.address = None\n",
    "        \n",
    "        \n",
    "        \n",
    "    def init_store_space(self):\n",
    "        \n",
    "        self.final_dict = {}\n",
    "        self.name_list = []\n",
    "        self.phone_list = []\n",
    "        self.address_list = []\n",
    "        \n",
    "    \n",
    "    def run(self):\n",
    "        \n",
    "        self.init_webdriver()\n",
    "        \n",
    "        while self.job_queue.qsize() >= 1:\n",
    "            \n",
    "            self.init_store_space()\n",
    "            \n",
    "            self.city_name = self.job_queue.get()\n",
    "            \n",
    "            if self.process_page() is False:\n",
    "                continue\n",
    "            \n",
    "            if self.scrape_data() is False:\n",
    "                continue\n",
    "            \n",
    "            self.convert_df()\n",
    "            \n",
    "        self.destruct_web_driver()\n",
    "    \n",
    "    \n",
    "    def init_webdriver(self):\n",
    "        \n",
    "        self.driver = webdriver.Chrome(\"C:\\chromedriver_win32\\chromedriver\")\n",
    "        \n",
    "    \n",
    "    def destruct_web_driver(self):\n",
    "        \n",
    "        self.driver.close()\n",
    "        \n",
    "        \n",
    "    def process_page(self):\n",
    "        \n",
    "        self.driver.get(\"https://www.panasonic.com/tw/consumer/where-to-buy.html\")\n",
    "        time.sleep(3.5)\n",
    "        \n",
    "        try:\n",
    "            self.driver.find_element_by_xpath('//*[@id=\"category1\"]/option[1]').click()\n",
    "            self.driver.find_element_by_xpath('//*[@id=\"a-search\"]').send_keys(self.city_name)\n",
    "            self.driver.find_element_by_xpath('//*[@id=\"searchsubmit\"]').click()\n",
    "            time.sleep(3.5)\n",
    "            return True\n",
    "        except:\n",
    "            print(self.city_name + \" \" + \"failed in process_page.\")\n",
    "            return False\n",
    "        \n",
    "    \n",
    "    def scrape_data(self):\n",
    "        \n",
    "        html = self.driver.page_source\n",
    "        soup = BeautifulSoup(html, \"html.parser\")\n",
    "        soup = soup.find_all(\"div\", class_=\"shop\")\n",
    "        \n",
    "        if len(soup) == 0:\n",
    "            print(self.city_name + \" \" + \"failed in scrape_data.\")\n",
    "            return False\n",
    "        \n",
    "        print(self.city_name + \" \" + \"Scraped !\")\n",
    "        for idx in tqdm(range(len(soup))):\n",
    "            \n",
    "            shop = soup[idx]\n",
    "            \n",
    "            try:\n",
    "                na = shop.find(\"h3\", class_=\"subheader3\").text\n",
    "            except:\n",
    "                na = None\n",
    "            self.name_list.append(na)\n",
    "            \n",
    "            try:\n",
    "                add = shop.find_all(\"p\", class_=\"bodycopy1\")[1].text\n",
    "            except:\n",
    "                add = None\n",
    "            self.address_list.append(add)\n",
    "            \n",
    "            try:\n",
    "                ph = shop.find_all(\"p\", class_=\"bodycopy1\")[3].text\n",
    "                ph = re.findall(\"\\d+-\\d+\", ph)[0]\n",
    "            except:\n",
    "                ph = None\n",
    "            self.phone_list.append(ph)\n",
    "            \n",
    "        self.final_dict[\"公司名稱\"] = self.name_list\n",
    "        self.final_dict[\"地址\"] = self.address_list\n",
    "        self.final_dict[\"電話\"] = self.phone_list\n",
    "        \n",
    "        \n",
    "    def convert_df(self):\n",
    "        \n",
    "        df = pd.DataFrame.from_dict(self.final_dict)\n",
    "        df.to_excel(self.city_name+\".xlsx\")\n",
    "        "
   ]
  },
  {
   "cell_type": "markdown",
   "metadata": {},
   "source": [
    "## Main Driver"
   ]
  },
  {
   "cell_type": "code",
   "execution_count": 5,
   "metadata": {},
   "outputs": [
    {
     "name": "stdout",
     "output_type": "stream",
     "text": [
      "金門 Scraped !\n"
     ]
    },
    {
     "name": "stderr",
     "output_type": "stream",
     "text": [
      "d:\\programming\\pythondev\\temp\\venv\\lib\\site-packages\\ipykernel_launcher.py:85: TqdmDeprecationWarning: This function will be removed in tqdm==5.0.0\n",
      "Please use `tqdm.notebook.tqdm` instead of `tqdm.tqdm_notebook`\n"
     ]
    },
    {
     "data": {
      "application/vnd.jupyter.widget-view+json": {
       "model_id": "b78ad28c1fb147c0b3b0c5d0a7fc7a41",
       "version_major": 2,
       "version_minor": 0
      },
      "text/plain": [
       "HBox(children=(FloatProgress(value=0.0, max=2.0), HTML(value='')))"
      ]
     },
     "metadata": {},
     "output_type": "display_data"
    },
    {
     "name": "stdout",
     "output_type": "stream",
     "text": [
      "\n"
     ]
    }
   ],
   "source": [
    "url = \"https://www.panasonic.com/tw/consumer/where-to-buy.html\"\n",
    "\n",
    "worker1 = Worker(job_queue, url)\n",
    "worker1.start()\n",
    "\n",
    "worker2 = Worker(job_queue, url)\n",
    "worker2.start()\n",
    "\n",
    "worker3 = Worker(job_queue, url)\n",
    "worker3.start()\n",
    "\n",
    "worker4 = Worker(job_queue, url)\n",
    "worker4.start()\n",
    "\n",
    "worker5 = Worker(job_queue, url)\n",
    "worker5.start()"
   ]
  }
 ],
 "metadata": {
  "kernelspec": {
   "display_name": "Python 3",
   "language": "python",
   "name": "python3"
  },
  "language_info": {
   "codemirror_mode": {
    "name": "ipython",
    "version": 3
   },
   "file_extension": ".py",
   "mimetype": "text/x-python",
   "name": "python",
   "nbconvert_exporter": "python",
   "pygments_lexer": "ipython3",
   "version": "3.7.8"
  }
 },
 "nbformat": 4,
 "nbformat_minor": 4
}
