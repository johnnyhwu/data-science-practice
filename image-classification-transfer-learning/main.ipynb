{
 "cells": [
  {
   "cell_type": "markdown",
   "metadata": {
    "_cell_guid": "79c7e3d0-c299-4dcb-8224-4455121ee9b0",
    "_uuid": "d629ff2d2480ee46fbb7e2d37f6b5fab8052498a",
    "collapsed": true,
    "papermill": {
     "duration": 0.02433,
     "end_time": "2020-09-13T11:53:19.852800",
     "exception": false,
     "start_time": "2020-09-13T11:53:19.828470",
     "status": "completed"
    },
    "tags": []
   },
   "source": [
    "## Import Package"
   ]
  },
  {
   "cell_type": "code",
   "execution_count": 1,
   "metadata": {
    "execution": {
     "iopub.execute_input": "2020-09-13T11:53:19.905122Z",
     "iopub.status.busy": "2020-09-13T11:53:19.904386Z",
     "iopub.status.idle": "2020-09-13T11:53:24.709750Z",
     "shell.execute_reply": "2020-09-13T11:53:24.708572Z"
    },
    "papermill": {
     "duration": 4.833867,
     "end_time": "2020-09-13T11:53:24.709884",
     "exception": false,
     "start_time": "2020-09-13T11:53:19.876017",
     "status": "completed"
    },
    "tags": []
   },
   "outputs": [],
   "source": [
    "import os\n",
    "import json\n",
    "import numpy as np\n",
    "import urllib.request\n",
    "import tensorflow as tf\n",
    "import tensorflow.keras as keras\n",
    "import matplotlib.pyplot as plt"
   ]
  },
  {
   "cell_type": "markdown",
   "metadata": {
    "papermill": {
     "duration": 0.024386,
     "end_time": "2020-09-13T11:53:24.758447",
     "exception": false,
     "start_time": "2020-09-13T11:53:24.734061",
     "status": "completed"
    },
    "tags": []
   },
   "source": [
    "## Load Dataset"
   ]
  },
  {
   "cell_type": "code",
   "execution_count": 2,
   "metadata": {
    "execution": {
     "iopub.execute_input": "2020-09-13T11:53:24.810096Z",
     "iopub.status.busy": "2020-09-13T11:53:24.809320Z",
     "iopub.status.idle": "2020-09-13T11:53:24.812307Z",
     "shell.execute_reply": "2020-09-13T11:53:24.811819Z"
    },
    "papermill": {
     "duration": 0.030752,
     "end_time": "2020-09-13T11:53:24.812405",
     "exception": false,
     "start_time": "2020-09-13T11:53:24.781653",
     "status": "completed"
    },
    "tags": []
   },
   "outputs": [],
   "source": [
    "training_dataset_path = \"../input/dogs-cats-images/dataset/training_set/\"\n",
    "validation_dataset_path = \"../input/dogs-cats-images/dataset/test_set/\"\n",
    "\n",
    "training_dataset_cat_path = training_dataset_path + \"cats\"\n",
    "training_dataset_dog_path = training_dataset_path + \"dogs\"\n",
    "\n",
    "validation_dataset_cat_path = validation_dataset_path + \"cats\"\n",
    "validation_dataset_dog_path = validation_dataset_path + \"dogs\""
   ]
  },
  {
   "cell_type": "code",
   "execution_count": 3,
   "metadata": {
    "execution": {
     "iopub.execute_input": "2020-09-13T11:53:24.864025Z",
     "iopub.status.busy": "2020-09-13T11:53:24.863297Z",
     "iopub.status.idle": "2020-09-13T11:53:25.050690Z",
     "shell.execute_reply": "2020-09-13T11:53:25.049905Z"
    },
    "papermill": {
     "duration": 0.215218,
     "end_time": "2020-09-13T11:53:25.050842",
     "exception": false,
     "start_time": "2020-09-13T11:53:24.835624",
     "status": "completed"
    },
    "tags": []
   },
   "outputs": [
    {
     "name": "stdout",
     "output_type": "stream",
     "text": [
      "Number of training images for dog:  4000\n",
      "Number of training images for cat:  4000\n"
     ]
    }
   ],
   "source": [
    "print(\"Number of training images for dog: \", len(os.listdir(training_dataset_dog_path)))\n",
    "print(\"Number of training images for cat: \", len(os.listdir(training_dataset_cat_path)))"
   ]
  },
  {
   "cell_type": "code",
   "execution_count": 4,
   "metadata": {
    "execution": {
     "iopub.execute_input": "2020-09-13T11:53:25.104234Z",
     "iopub.status.busy": "2020-09-13T11:53:25.103628Z",
     "iopub.status.idle": "2020-09-13T11:53:25.175523Z",
     "shell.execute_reply": "2020-09-13T11:53:25.175962Z"
    },
    "papermill": {
     "duration": 0.100243,
     "end_time": "2020-09-13T11:53:25.176087",
     "exception": false,
     "start_time": "2020-09-13T11:53:25.075844",
     "status": "completed"
    },
    "tags": []
   },
   "outputs": [
    {
     "name": "stdout",
     "output_type": "stream",
     "text": [
      "Number of validation images for dog:  1000\n",
      "Number of validation images for cat:  1000\n"
     ]
    }
   ],
   "source": [
    "print(\"Number of validation images for dog: \", len(os.listdir(validation_dataset_dog_path)))\n",
    "print(\"Number of validation images for cat: \", len(os.listdir(validation_dataset_cat_path)))"
   ]
  },
  {
   "cell_type": "markdown",
   "metadata": {
    "papermill": {
     "duration": 0.024555,
     "end_time": "2020-09-13T11:53:25.225721",
     "exception": false,
     "start_time": "2020-09-13T11:53:25.201166",
     "status": "completed"
    },
    "tags": []
   },
   "source": [
    "## Create ImageDataGenerator"
   ]
  },
  {
   "cell_type": "markdown",
   "metadata": {
    "papermill": {
     "duration": 0.037126,
     "end_time": "2020-09-13T11:53:25.291446",
     "exception": false,
     "start_time": "2020-09-13T11:53:25.254320",
     "status": "completed"
    },
    "tags": []
   },
   "source": [
    "### Create ImageDataGenerator for Training"
   ]
  },
  {
   "cell_type": "code",
   "execution_count": 5,
   "metadata": {
    "execution": {
     "iopub.execute_input": "2020-09-13T11:53:25.401063Z",
     "iopub.status.busy": "2020-09-13T11:53:25.400115Z",
     "iopub.status.idle": "2020-09-13T11:53:25.403800Z",
     "shell.execute_reply": "2020-09-13T11:53:25.404534Z"
    },
    "papermill": {
     "duration": 0.075849,
     "end_time": "2020-09-13T11:53:25.404735",
     "exception": false,
     "start_time": "2020-09-13T11:53:25.328886",
     "status": "completed"
    },
    "tags": []
   },
   "outputs": [],
   "source": [
    "training_datagen = keras.preprocessing.image.ImageDataGenerator(rotation_range=90,\n",
    "                                                                width_shift_range=0.2,\n",
    "                                                                height_shift_range=0.2, \n",
    "                                                                shear_range=0.2,\n",
    "                                                                zoom_range=0.2,\n",
    "                                                                fill_mode=\"nearest\",\n",
    "                                                                horizontal_flip=True,\n",
    "                                                                rescale=1/255)"
   ]
  },
  {
   "cell_type": "code",
   "execution_count": 6,
   "metadata": {
    "execution": {
     "iopub.execute_input": "2020-09-13T11:53:25.488709Z",
     "iopub.status.busy": "2020-09-13T11:53:25.487888Z",
     "iopub.status.idle": "2020-09-13T11:53:27.440571Z",
     "shell.execute_reply": "2020-09-13T11:53:27.441423Z"
    },
    "papermill": {
     "duration": 1.996186,
     "end_time": "2020-09-13T11:53:27.441610",
     "exception": false,
     "start_time": "2020-09-13T11:53:25.445424",
     "status": "completed"
    },
    "tags": []
   },
   "outputs": [
    {
     "name": "stdout",
     "output_type": "stream",
     "text": [
      "Found 8000 images belonging to 2 classes.\n"
     ]
    }
   ],
   "source": [
    "training_generator = training_datagen.flow_from_directory(directory=training_dataset_path, \n",
    "                                                          target_size=(300, 300),\n",
    "                                                          class_mode=\"categorical\",\n",
    "                                                          batch_size=32)"
   ]
  },
  {
   "cell_type": "markdown",
   "metadata": {
    "papermill": {
     "duration": 0.02512,
     "end_time": "2020-09-13T11:53:27.493134",
     "exception": false,
     "start_time": "2020-09-13T11:53:27.468014",
     "status": "completed"
    },
    "tags": []
   },
   "source": [
    "### Create ImageDataGenerator for Validation"
   ]
  },
  {
   "cell_type": "code",
   "execution_count": 7,
   "metadata": {
    "execution": {
     "iopub.execute_input": "2020-09-13T11:53:27.548831Z",
     "iopub.status.busy": "2020-09-13T11:53:27.548092Z",
     "iopub.status.idle": "2020-09-13T11:53:27.550853Z",
     "shell.execute_reply": "2020-09-13T11:53:27.551397Z"
    },
    "papermill": {
     "duration": 0.032822,
     "end_time": "2020-09-13T11:53:27.551507",
     "exception": false,
     "start_time": "2020-09-13T11:53:27.518685",
     "status": "completed"
    },
    "tags": []
   },
   "outputs": [],
   "source": [
    "validation_datagen = keras.preprocessing.image.ImageDataGenerator(rescale=1/255)"
   ]
  },
  {
   "cell_type": "code",
   "execution_count": 8,
   "metadata": {
    "execution": {
     "iopub.execute_input": "2020-09-13T11:53:27.607679Z",
     "iopub.status.busy": "2020-09-13T11:53:27.606903Z",
     "iopub.status.idle": "2020-09-13T11:53:27.717918Z",
     "shell.execute_reply": "2020-09-13T11:53:27.718698Z"
    },
    "papermill": {
     "duration": 0.141802,
     "end_time": "2020-09-13T11:53:27.718814",
     "exception": false,
     "start_time": "2020-09-13T11:53:27.577012",
     "status": "completed"
    },
    "tags": []
   },
   "outputs": [
    {
     "name": "stdout",
     "output_type": "stream",
     "text": [
      "Found 2000 images belonging to 2 classes.\n"
     ]
    }
   ],
   "source": [
    "validation_generator = training_datagen.flow_from_directory(directory=validation_dataset_path, \n",
    "                                                          target_size=(300, 300),\n",
    "                                                          class_mode=\"categorical\",\n",
    "                                                          batch_size=32)"
   ]
  },
  {
   "cell_type": "markdown",
   "metadata": {
    "papermill": {
     "duration": 0.026107,
     "end_time": "2020-09-13T11:53:27.771276",
     "exception": false,
     "start_time": "2020-09-13T11:53:27.745169",
     "status": "completed"
    },
    "tags": []
   },
   "source": [
    "## Define Model"
   ]
  },
  {
   "cell_type": "markdown",
   "metadata": {
    "papermill": {
     "duration": 0.025694,
     "end_time": "2020-09-13T11:53:27.822879",
     "exception": false,
     "start_time": "2020-09-13T11:53:27.797185",
     "status": "completed"
    },
    "tags": []
   },
   "source": [
    "### Architecture"
   ]
  },
  {
   "cell_type": "code",
   "execution_count": 9,
   "metadata": {
    "execution": {
     "iopub.execute_input": "2020-09-13T11:53:27.882958Z",
     "iopub.status.busy": "2020-09-13T11:53:27.882362Z",
     "iopub.status.idle": "2020-09-13T11:53:33.228973Z",
     "shell.execute_reply": "2020-09-13T11:53:33.227858Z"
    },
    "papermill": {
     "duration": 5.380208,
     "end_time": "2020-09-13T11:53:33.229100",
     "exception": false,
     "start_time": "2020-09-13T11:53:27.848892",
     "status": "completed"
    },
    "tags": []
   },
   "outputs": [],
   "source": [
    "# load pre-defined model architecture from keras\n",
    "pre_trained_model = keras.applications.inception_v3.InceptionV3(include_top=False,\n",
    "                                                    weights=None,\n",
    "                                                    input_shape=(300, 300, 3))"
   ]
  },
  {
   "cell_type": "code",
   "execution_count": 10,
   "metadata": {
    "execution": {
     "iopub.execute_input": "2020-09-13T11:53:33.315834Z",
     "iopub.status.busy": "2020-09-13T11:53:33.315108Z",
     "iopub.status.idle": "2020-09-13T11:53:34.224041Z",
     "shell.execute_reply": "2020-09-13T11:53:34.224533Z"
    },
    "papermill": {
     "duration": 0.969013,
     "end_time": "2020-09-13T11:53:34.224670",
     "exception": false,
     "start_time": "2020-09-13T11:53:33.255657",
     "status": "completed"
    },
    "tags": []
   },
   "outputs": [
    {
     "data": {
      "text/plain": [
       "('inception_v3_weights_tf_dim_ordering_tf_kernels_notop.h5',\n",
       " <http.client.HTTPMessage at 0x7f3c487c5ed0>)"
      ]
     },
     "execution_count": 10,
     "metadata": {},
     "output_type": "execute_result"
    }
   ],
   "source": [
    "# download pre-trained weight\n",
    "pre_trained_weight_name = \"inception_v3_weights_tf_dim_ordering_tf_kernels_notop.h5\"\n",
    "urllib.request.urlretrieve(\"https://storage.googleapis.com/mledu-datasets/inception_v3_weights_tf_dim_ordering_tf_kernels_notop.h5\", pre_trained_weight_name)"
   ]
  },
  {
   "cell_type": "code",
   "execution_count": 11,
   "metadata": {
    "execution": {
     "iopub.execute_input": "2020-09-13T11:53:34.291136Z",
     "iopub.status.busy": "2020-09-13T11:53:34.290400Z",
     "iopub.status.idle": "2020-09-13T11:53:34.679799Z",
     "shell.execute_reply": "2020-09-13T11:53:34.678917Z"
    },
    "papermill": {
     "duration": 0.428509,
     "end_time": "2020-09-13T11:53:34.679914",
     "exception": false,
     "start_time": "2020-09-13T11:53:34.251405",
     "status": "completed"
    },
    "tags": []
   },
   "outputs": [],
   "source": [
    "# load pre-trained weight to model\n",
    "pre_trained_model.load_weights(pre_trained_weight_name)"
   ]
  },
  {
   "cell_type": "code",
   "execution_count": 12,
   "metadata": {
    "execution": {
     "iopub.execute_input": "2020-09-13T11:53:34.751121Z",
     "iopub.status.busy": "2020-09-13T11:53:34.749565Z",
     "iopub.status.idle": "2020-09-13T11:53:34.752039Z",
     "shell.execute_reply": "2020-09-13T11:53:34.752607Z"
    },
    "papermill": {
     "duration": 0.045558,
     "end_time": "2020-09-13T11:53:34.752721",
     "exception": false,
     "start_time": "2020-09-13T11:53:34.707163",
     "status": "completed"
    },
    "tags": []
   },
   "outputs": [],
   "source": [
    "# lock layer in pre-trained model\n",
    "for layer in pre_trained_model.layers:\n",
    "    layer.trainable = False"
   ]
  },
  {
   "cell_type": "code",
   "execution_count": null,
   "metadata": {
    "execution": {
     "iopub.execute_input": "2020-09-13T11:53:34.811834Z",
     "iopub.status.busy": "2020-09-13T11:53:34.810321Z",
     "iopub.status.idle": "2020-09-13T11:53:34.914712Z",
     "shell.execute_reply": "2020-09-13T11:53:34.917196Z"
    },
    "papermill": {
     "duration": 0.137866,
     "end_time": "2020-09-13T11:53:34.917381",
     "exception": false,
     "start_time": "2020-09-13T11:53:34.779515",
     "status": "completed"
    },
    "tags": []
   },
   "outputs": [],
   "source": [
    "pre_trained_model.summary()"
   ]
  },
  {
   "cell_type": "code",
   "execution_count": 14,
   "metadata": {
    "execution": {
     "iopub.execute_input": "2020-09-13T11:53:35.054860Z",
     "iopub.status.busy": "2020-09-13T11:53:35.053922Z",
     "iopub.status.idle": "2020-09-13T11:53:35.228829Z",
     "shell.execute_reply": "2020-09-13T11:53:35.230039Z"
    },
    "papermill": {
     "duration": 0.243789,
     "end_time": "2020-09-13T11:53:35.230263",
     "exception": false,
     "start_time": "2020-09-13T11:53:34.986474",
     "status": "completed"
    },
    "tags": []
   },
   "outputs": [],
   "source": [
    "# the output of pre-trained model\n",
    "pre_trained_model_output = pre_trained_model.output\n",
    "\n",
    "# append customed layer to create new model\n",
    "x = keras.layers.Flatten()(pre_trained_model_output)\n",
    "x = keras.layers.Dense(units=1024, activation=tf.nn.relu)(x)\n",
    "\n",
    "# create model without dropout layer\n",
    "outputs = keras.layers.Dense(units=2, activation=tf.nn.softmax)(x)\n",
    "model = keras.models.Model(inputs=pre_trained_model.input, outputs=outputs)\n",
    "\n",
    "# create model with dropout layer\n",
    "x = keras.layers.Dropout(0.3)(x)\n",
    "outputs = keras.layers.Dense(units=2, activation=tf.nn.softmax)(x)\n",
    "model_dropout = keras.models.Model(inputs=pre_trained_model.input, outputs=outputs)"
   ]
  },
  {
   "cell_type": "code",
   "execution_count": null,
   "metadata": {
    "execution": {
     "iopub.execute_input": "2020-09-13T11:53:35.336741Z",
     "iopub.status.busy": "2020-09-13T11:53:35.335811Z",
     "iopub.status.idle": "2020-09-13T11:53:35.539554Z",
     "shell.execute_reply": "2020-09-13T11:53:35.537929Z"
    },
    "papermill": {
     "duration": 0.253291,
     "end_time": "2020-09-13T11:53:35.539716",
     "exception": false,
     "start_time": "2020-09-13T11:53:35.286425",
     "status": "completed"
    },
    "tags": []
   },
   "outputs": [],
   "source": [
    "model.summary()"
   ]
  },
  {
   "cell_type": "code",
   "execution_count": null,
   "metadata": {
    "execution": {
     "iopub.execute_input": "2020-09-13T11:53:35.656056Z",
     "iopub.status.busy": "2020-09-13T11:53:35.655142Z",
     "iopub.status.idle": "2020-09-13T11:53:35.864043Z",
     "shell.execute_reply": "2020-09-13T11:53:35.862794Z"
    },
    "papermill": {
     "duration": 0.265466,
     "end_time": "2020-09-13T11:53:35.864228",
     "exception": false,
     "start_time": "2020-09-13T11:53:35.598762",
     "status": "completed"
    },
    "tags": []
   },
   "outputs": [],
   "source": [
    "model_dropout.summary()"
   ]
  },
  {
   "cell_type": "markdown",
   "metadata": {
    "papermill": {
     "duration": 0.049713,
     "end_time": "2020-09-13T11:53:35.966164",
     "exception": false,
     "start_time": "2020-09-13T11:53:35.916451",
     "status": "completed"
    },
    "tags": []
   },
   "source": [
    "### Compilation"
   ]
  },
  {
   "cell_type": "code",
   "execution_count": 17,
   "metadata": {
    "execution": {
     "iopub.execute_input": "2020-09-13T11:53:36.090560Z",
     "iopub.status.busy": "2020-09-13T11:53:36.089639Z",
     "iopub.status.idle": "2020-09-13T11:53:36.098860Z",
     "shell.execute_reply": "2020-09-13T11:53:36.099479Z"
    },
    "papermill": {
     "duration": 0.085147,
     "end_time": "2020-09-13T11:53:36.099648",
     "exception": false,
     "start_time": "2020-09-13T11:53:36.014501",
     "status": "completed"
    },
    "tags": []
   },
   "outputs": [],
   "source": [
    "model.compile(loss=\"categorical_crossentropy\", optimizer=keras.optimizers.Adam(learning_rate=0.0001), metrics=[\"acc\"])"
   ]
  },
  {
   "cell_type": "code",
   "execution_count": 18,
   "metadata": {
    "execution": {
     "iopub.execute_input": "2020-09-13T11:53:36.202435Z",
     "iopub.status.busy": "2020-09-13T11:53:36.201565Z",
     "iopub.status.idle": "2020-09-13T11:53:36.209052Z",
     "shell.execute_reply": "2020-09-13T11:53:36.208469Z"
    },
    "papermill": {
     "duration": 0.061581,
     "end_time": "2020-09-13T11:53:36.209161",
     "exception": false,
     "start_time": "2020-09-13T11:53:36.147580",
     "status": "completed"
    },
    "tags": []
   },
   "outputs": [],
   "source": [
    "model_dropout.compile(loss=\"categorical_crossentropy\", optimizer=keras.optimizers.Adam(learning_rate=0.0001), metrics=[\"acc\"])"
   ]
  },
  {
   "cell_type": "markdown",
   "metadata": {
    "papermill": {
     "duration": 0.037389,
     "end_time": "2020-09-13T11:53:36.279251",
     "exception": false,
     "start_time": "2020-09-13T11:53:36.241862",
     "status": "completed"
    },
    "tags": []
   },
   "source": [
    "### Callback"
   ]
  },
  {
   "cell_type": "code",
   "execution_count": 19,
   "metadata": {
    "execution": {
     "iopub.execute_input": "2020-09-13T11:53:36.426168Z",
     "iopub.status.busy": "2020-09-13T11:53:36.425294Z",
     "iopub.status.idle": "2020-09-13T11:53:36.434689Z",
     "shell.execute_reply": "2020-09-13T11:53:36.435389Z"
    },
    "papermill": {
     "duration": 0.105486,
     "end_time": "2020-09-13T11:53:36.435571",
     "exception": false,
     "start_time": "2020-09-13T11:53:36.330085",
     "status": "completed"
    },
    "tags": []
   },
   "outputs": [],
   "source": [
    "pass"
   ]
  },
  {
   "cell_type": "markdown",
   "metadata": {
    "papermill": {
     "duration": 0.049866,
     "end_time": "2020-09-13T11:53:36.539624",
     "exception": false,
     "start_time": "2020-09-13T11:53:36.489758",
     "status": "completed"
    },
    "tags": []
   },
   "source": [
    "## Train Model"
   ]
  },
  {
   "cell_type": "code",
   "execution_count": null,
   "metadata": {
    "execution": {
     "iopub.execute_input": "2020-09-13T11:53:36.645028Z",
     "iopub.status.busy": "2020-09-13T11:53:36.644230Z",
     "iopub.status.idle": "2020-09-13T13:22:26.981168Z",
     "shell.execute_reply": "2020-09-13T13:22:26.981998Z"
    },
    "papermill": {
     "duration": 5330.393945,
     "end_time": "2020-09-13T13:22:26.982233",
     "exception": false,
     "start_time": "2020-09-13T11:53:36.588288",
     "status": "completed"
    },
    "tags": []
   },
   "outputs": [],
   "source": [
    "history = model.fit(x=training_generator,\n",
    "                    epochs=100,\n",
    "                    validation_data=validation_generator,\n",
    "                    steps_per_epoch=32,\n",
    "                    validation_steps=32)"
   ]
  },
  {
   "cell_type": "code",
   "execution_count": 21,
   "metadata": {
    "execution": {
     "iopub.execute_input": "2020-09-13T13:22:29.607758Z",
     "iopub.status.busy": "2020-09-13T13:22:29.606722Z",
     "iopub.status.idle": "2020-09-13T13:22:29.612050Z",
     "shell.execute_reply": "2020-09-13T13:22:29.612781Z"
    },
    "papermill": {
     "duration": 1.390636,
     "end_time": "2020-09-13T13:22:29.613007",
     "exception": false,
     "start_time": "2020-09-13T13:22:28.222371",
     "status": "completed"
    },
    "tags": []
   },
   "outputs": [],
   "source": [
    "with open(\"history.json\", \"w\") as file:\n",
    "    json.dump(history.history, file)"
   ]
  },
  {
   "cell_type": "code",
   "execution_count": null,
   "metadata": {
    "execution": {
     "iopub.execute_input": "2020-09-13T13:22:32.831573Z",
     "iopub.status.busy": "2020-09-13T13:22:32.830047Z",
     "iopub.status.idle": "2020-09-13T14:50:34.187833Z",
     "shell.execute_reply": "2020-09-13T14:50:34.188628Z"
    },
    "papermill": {
     "duration": 5283.057918,
     "end_time": "2020-09-13T14:50:34.188848",
     "exception": false,
     "start_time": "2020-09-13T13:22:31.130930",
     "status": "completed"
    },
    "tags": []
   },
   "outputs": [],
   "source": [
    "history_dropout = model_dropout.fit(x=training_generator,\n",
    "                                    epochs=100,\n",
    "                                    validation_data=validation_generator,\n",
    "                                    steps_per_epoch=32,\n",
    "                                    validation_steps=32)"
   ]
  },
  {
   "cell_type": "code",
   "execution_count": 23,
   "metadata": {
    "execution": {
     "iopub.execute_input": "2020-09-13T14:50:39.258663Z",
     "iopub.status.busy": "2020-09-13T14:50:39.257193Z",
     "iopub.status.idle": "2020-09-13T14:50:39.261837Z",
     "shell.execute_reply": "2020-09-13T14:50:39.261066Z"
    },
    "papermill": {
     "duration": 2.474059,
     "end_time": "2020-09-13T14:50:39.261983",
     "exception": false,
     "start_time": "2020-09-13T14:50:36.787924",
     "status": "completed"
    },
    "tags": []
   },
   "outputs": [],
   "source": [
    "with open(\"history_dropout.json\", \"w\") as file:\n",
    "    json.dump(history_dropout.history, file)"
   ]
  },
  {
   "cell_type": "markdown",
   "metadata": {
    "papermill": {
     "duration": 2.52096,
     "end_time": "2020-09-13T14:50:44.128522",
     "exception": false,
     "start_time": "2020-09-13T14:50:41.607562",
     "status": "completed"
    },
    "tags": []
   },
   "source": [
    "## Compare Training Performace of Two Models"
   ]
  },
  {
   "cell_type": "code",
   "execution_count": 24,
   "metadata": {
    "execution": {
     "iopub.execute_input": "2020-09-13T14:50:48.763187Z",
     "iopub.status.busy": "2020-09-13T14:50:48.762121Z",
     "iopub.status.idle": "2020-09-13T14:50:48.765263Z",
     "shell.execute_reply": "2020-09-13T14:50:48.764737Z"
    },
    "papermill": {
     "duration": 2.315705,
     "end_time": "2020-09-13T14:50:48.765382",
     "exception": false,
     "start_time": "2020-09-13T14:50:46.449677",
     "status": "completed"
    },
    "tags": []
   },
   "outputs": [],
   "source": [
    "with open(\"history.json\", 'r') as file:\n",
    "    data = file.read()\n",
    "\n",
    "history = json.loads(data)"
   ]
  },
  {
   "cell_type": "code",
   "execution_count": 25,
   "metadata": {
    "execution": {
     "iopub.execute_input": "2020-09-13T14:50:53.493031Z",
     "iopub.status.busy": "2020-09-13T14:50:53.492074Z",
     "iopub.status.idle": "2020-09-13T14:50:53.494524Z",
     "shell.execute_reply": "2020-09-13T14:50:53.495031Z"
    },
    "papermill": {
     "duration": 2.33953,
     "end_time": "2020-09-13T14:50:53.495170",
     "exception": false,
     "start_time": "2020-09-13T14:50:51.155640",
     "status": "completed"
    },
    "tags": []
   },
   "outputs": [],
   "source": [
    "with open(\"history_dropout.json\", 'r') as file:\n",
    "    data = file.read()\n",
    "\n",
    "history_dropout = json.loads(data)"
   ]
  },
  {
   "cell_type": "code",
   "execution_count": 26,
   "metadata": {
    "execution": {
     "iopub.execute_input": "2020-09-13T14:50:58.370045Z",
     "iopub.status.busy": "2020-09-13T14:50:58.368195Z",
     "iopub.status.idle": "2020-09-13T14:50:58.370787Z",
     "shell.execute_reply": "2020-09-13T14:50:58.371275Z"
    },
    "papermill": {
     "duration": 2.310621,
     "end_time": "2020-09-13T14:50:58.371402",
     "exception": false,
     "start_time": "2020-09-13T14:50:56.060781",
     "status": "completed"
    },
    "tags": []
   },
   "outputs": [],
   "source": [
    "training_acc = history[\"acc\"]\n",
    "training_val_acc = history[\"val_acc\"]\n",
    "dropout_training_acc = history_dropout[\"acc\"]\n",
    "dropout_training_val_acc = history_dropout[\"val_acc\"]\n",
    "epochs = list(range(len(training_acc)))"
   ]
  },
  {
   "cell_type": "code",
   "execution_count": 27,
   "metadata": {
    "execution": {
     "iopub.execute_input": "2020-09-13T14:51:03.286385Z",
     "iopub.status.busy": "2020-09-13T14:51:03.276996Z",
     "iopub.status.idle": "2020-09-13T14:51:03.458718Z",
     "shell.execute_reply": "2020-09-13T14:51:03.459261Z"
    },
    "papermill": {
     "duration": 2.733583,
     "end_time": "2020-09-13T14:51:03.459408",
     "exception": false,
     "start_time": "2020-09-13T14:51:00.725825",
     "status": "completed"
    },
    "tags": []
   },
   "outputs": [
    {
     "data": {
      "image/png": "[encoded data removed]",
      "text/plain": [
       "<Figure size 432x288 with 1 Axes>"
      ]
     },
     "metadata": {
      "needs_background": "light"
     },
     "output_type": "display_data"
    }
   ],
   "source": [
    "plt.plot(epochs, training_acc, 'bo', label=\"Training Acc\")\n",
    "plt.plot(epochs, training_val_acc, 'b', label=\"Validation Acc\")\n",
    "plt.title(\"Training Acc vs Validation Acc without Dropout\")\n",
    "plt.legend()\n",
    "plt.show()"
   ]
  },
  {
   "cell_type": "code",
   "execution_count": 28,
   "metadata": {
    "execution": {
     "iopub.execute_input": "2020-09-13T14:51:08.434489Z",
     "iopub.status.busy": "2020-09-13T14:51:08.433263Z",
     "iopub.status.idle": "2020-09-13T14:51:08.596628Z",
     "shell.execute_reply": "2020-09-13T14:51:08.595948Z"
    },
    "papermill": {
     "duration": 2.528923,
     "end_time": "2020-09-13T14:51:08.596767",
     "exception": false,
     "start_time": "2020-09-13T14:51:06.067844",
     "status": "completed"
    },
    "tags": []
   },
   "outputs": [
    {
     "data": {
      "image/png": "[encoded data removed]",
      "text/plain": [
       "<Figure size 432x288 with 1 Axes>"
      ]
     },
     "metadata": {
      "needs_background": "light"
     },
     "output_type": "display_data"
    }
   ],
   "source": [
    "plt.plot(epochs, dropout_training_acc, 'bo', label=\"Training Acc\")\n",
    "plt.plot(epochs, dropout_training_val_acc, 'b', label=\"Validation Acc\")\n",
    "plt.title(\"Training Acc vs Validation Acc with Dropout\")\n",
    "plt.legend()\n",
    "plt.show()"
   ]
  }
 ],
 "metadata": {
  "kernelspec": {
   "display_name": "Python 3",
   "language": "python",
   "name": "python3"
  },
  "language_info": {
   "codemirror_mode": {
    "name": "ipython",
    "version": 3
   },
   "file_extension": ".py",
   "mimetype": "text/x-python",
   "name": "python",
   "nbconvert_exporter": "python",
   "pygments_lexer": "ipython3",
   "version": "3.7.6"
  },
  "papermill": {
   "duration": 10681.190118,
   "end_time": "2020-09-13T14:51:17.255524",
   "environment_variables": {},
   "exception": null,
   "input_path": "__notebook__.ipynb",
   "output_path": "__notebook__.ipynb",
   "parameters": {},
   "start_time": "2020-09-13T11:53:16.065406",
   "version": "2.1.0"
  }
 },
 "nbformat": 4,
 "nbformat_minor": 4
}
